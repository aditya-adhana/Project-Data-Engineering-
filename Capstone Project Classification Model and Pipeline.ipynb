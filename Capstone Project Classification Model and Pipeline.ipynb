{
 "cells": [
  {
   "cell_type": "code",
   "execution_count": 1,
   "metadata": {},
   "outputs": [],
   "source": [
    "from pyspark.sql import SparkSession"
   ]
  },
  {
   "cell_type": "code",
   "execution_count": 2,
   "metadata": {},
   "outputs": [
    {
     "data": {
      "text/html": [
       "\n",
       "            <div>\n",
       "                <p><b>SparkSession - hive</b></p>\n",
       "                \n",
       "        <div>\n",
       "            <p><b>SparkContext</b></p>\n",
       "\n",
       "            <p><a href=\"http://ip-10-1-1-204.ap-south-1.compute.internal:43001\">Spark UI</a></p>\n",
       "\n",
       "            <dl>\n",
       "              <dt>Version</dt>\n",
       "                <dd><code>v2.4.0</code></dd>\n",
       "              <dt>Master</dt>\n",
       "                <dd><code>local</code></dd>\n",
       "              <dt>AppName</dt>\n",
       "                <dd><code>Capstone Project</code></dd>\n",
       "            </dl>\n",
       "        </div>\n",
       "        \n",
       "            </div>\n",
       "        "
      ],
      "text/plain": [
       "<pyspark.sql.session.SparkSession at 0x7f63601f2350>"
      ]
     },
     "execution_count": 2,
     "metadata": {},
     "output_type": "execute_result"
    }
   ],
   "source": [
    "spark=(SparkSession.builder.master(\"local\").appName(\"Capstone Project\")\\\n",
    "      .config(\"hive.metastore.uris\",\"thrift://ip-10-1-2-24.ap-south-1.compute.internal:9083\")\\\n",
    "      .enableHiveSupport().getOrCreate())\n",
    "spark"
   ]
  },
  {
   "cell_type": "code",
   "execution_count": null,
   "metadata": {},
   "outputs": [],
   "source": [
    "# importing all tables \n",
    "#employees=spark.sql(\"select * from project_de.employees\")\n",
    "#titles=spark.sql(\"select * from project_de.titles\")\n",
    "#salaries=spark.sql(\"select * from project_de.salaries\")\n",
    "#departments=spark.sql(\"select * from project_de.department\")\n",
    "#department_manager=spark.sql(\"select * from project_de.department_manager\")\n",
    "#department_employees=spark.sql(\"select * from project_de.department_employees\")"
   ]
  },
  {
   "cell_type": "code",
   "execution_count": 4,
   "metadata": {},
   "outputs": [],
   "source": [
    "data=spark.sql('select * from project_de.employees e \\\n",
    "inner join project_de.salaries s on e.emp_no=s.emp_no \\\n",
    "inner join project_de.titles t on e.emp_titles_id=t.title_id \\\n",
    "inner join project_de.department_employees de on e.emp_no=de.emp_no \\\n",
    "inner join project_de.department d on de.dept_no=d.dept_no')"
   ]
  },
  {
   "cell_type": "code",
   "execution_count": 7,
   "metadata": {},
   "outputs": [
    {
     "data": {
      "text/plain": [
       "pyspark.sql.dataframe.DataFrame"
      ]
     },
     "execution_count": 7,
     "metadata": {},
     "output_type": "execute_result"
    }
   ],
   "source": [
    "type(data)"
   ]
  },
  {
   "cell_type": "code",
   "execution_count": 11,
   "metadata": {},
   "outputs": [
    {
     "data": {
      "text/plain": [
       "331603"
      ]
     },
     "execution_count": 11,
     "metadata": {},
     "output_type": "execute_result"
    }
   ],
   "source": [
    "data.count()"
   ]
  },
  {
   "cell_type": "code",
   "execution_count": 14,
   "metadata": {},
   "outputs": [
    {
     "data": {
      "text/plain": [
       "['emp_no',\n",
       " 'emp_titles_id',\n",
       " 'birth_date',\n",
       " 'first_name',\n",
       " 'last_name',\n",
       " 'sex',\n",
       " 'hire_date',\n",
       " 'no_of_projects',\n",
       " 'last_performance_rating',\n",
       " 'left_company',\n",
       " 'last_date',\n",
       " 'emp_no',\n",
       " 'salary',\n",
       " 'title_id',\n",
       " 'title',\n",
       " 'emp_no',\n",
       " 'dept_no',\n",
       " 'dept_no',\n",
       " 'dept_name']"
      ]
     },
     "execution_count": 14,
     "metadata": {},
     "output_type": "execute_result"
    }
   ],
   "source": [
    "data.columns"
   ]
  },
  {
   "cell_type": "code",
   "execution_count": 42,
   "metadata": {},
   "outputs": [],
   "source": [
    "datacols=['e.emp_no',\n",
    " 'emp_titles_id',\n",
    " 'birth_date',\n",
    " 'first_name',\n",
    " 'last_name',\n",
    " 'sex',\n",
    " 'hire_date',\n",
    " 'no_of_projects',\n",
    " 'last_performance_rating',\n",
    " 'left_company',\n",
    " 'last_date',\n",
    " 'salary',\n",
    " 'title',\n",
    " 'de.dept_no',\n",
    " 'dept_name']"
   ]
  },
  {
   "cell_type": "code",
   "execution_count": 45,
   "metadata": {},
   "outputs": [],
   "source": [
    "data1=data.select(datacols)"
   ]
  },
  {
   "cell_type": "code",
   "execution_count": 52,
   "metadata": {},
   "outputs": [
    {
     "name": "stdout",
     "output_type": "stream",
     "text": [
      "root\n",
      " |-- emp_no: integer (nullable = true)\n",
      " |-- emp_titles_id: string (nullable = true)\n",
      " |-- birth_date: string (nullable = true)\n",
      " |-- first_name: string (nullable = true)\n",
      " |-- last_name: string (nullable = true)\n",
      " |-- sex: string (nullable = true)\n",
      " |-- hire_date: string (nullable = true)\n",
      " |-- no_of_projects: integer (nullable = true)\n",
      " |-- last_performance_rating: string (nullable = true)\n",
      " |-- left_company: boolean (nullable = true)\n",
      " |-- last_date: string (nullable = true)\n",
      " |-- salary: integer (nullable = true)\n",
      " |-- title: string (nullable = true)\n",
      " |-- dept_no: string (nullable = true)\n",
      " |-- dept_name: string (nullable = true)\n",
      "\n"
     ]
    }
   ],
   "source": [
    "#information abt the dataset\n",
    "data1.printSchema()"
   ]
  },
  {
   "cell_type": "code",
   "execution_count": 60,
   "metadata": {},
   "outputs": [
    {
     "name": "stdout",
     "output_type": "stream",
     "text": [
      "+------+-------------+----------+----------+---------+---+----------+--------------+-----------------------+------------+----------+------+---------------+-------+-----------+\n",
      "|emp_no|emp_titles_id|birth_date|first_name|last_name|sex| hire_date|no_of_projects|last_performance_rating|left_company| last_date|salary|          title|dept_no|  dept_name|\n",
      "+------+-------------+----------+----------+---------+---+----------+--------------+-----------------------+------------+----------+------+---------------+-------+-----------+\n",
      "| 60117|Senior Engineer|   d005|development|\n",
      "| 65828|          Staff|   d007|      Sales|\n",
      "| 40006|Senior Engineer|   d004| Production|\n",
      "| 40054|Senior Engineer|   d004| Production|\n",
      "+------+-------------+----------+----------+---------+---+----------+--------------+-----------------------+------------+----------+------+---------------+-------+-----------+\n",
      "only showing top 4 rows\n",
      "\n"
     ]
    }
   ],
   "source": [
    "data1.show(4)"
   ]
  },
  {
   "cell_type": "code",
   "execution_count": 67,
   "metadata": {},
   "outputs": [],
   "source": [
    "import pandas as pd\n",
    "import numpy as np\n",
    "import datetime as dt\n",
    "from datetime import datetime"
   ]
  },
  {
   "cell_type": "code",
   "execution_count": 46,
   "metadata": {},
   "outputs": [
    {
     "data": {
      "text/html": [
       "<div>\n",
       "<style scoped>\n",
       "    .dataframe tbody tr th:only-of-type {\n",
       "        vertical-align: middle;\n",
       "    }\n",
       "\n",
       "    .dataframe tbody tr th {\n",
       "        vertical-align: top;\n",
       "    }\n",
       "\n",
       "    .dataframe thead th {\n",
       "        text-align: right;\n",
       "    }\n",
       "</style>\n",
       "<table border=\"1\" class=\"dataframe\">\n",
       "  <thead>\n",
       "    <tr style=\"text-align: right;\">\n",
       "      <th></th>\n",
       "      <th>emp_no</th>\n",
       "      <th>emp_titles_id</th>\n",
       "      <th>birth_date</th>\n",
       "      <th>first_name</th>\n",
       "      <th>last_name</th>\n",
       "      <th>sex</th>\n",
       "      <th>hire_date</th>\n",
       "      <th>no_of_projects</th>\n",
       "      <th>last_performance_rating</th>\n",
       "      <th>left_company</th>\n",
       "      <th>last_date</th>\n",
       "      <th>salary</th>\n",
       "      <th>title</th>\n",
       "      <th>dept_no</th>\n",
       "      <th>dept_name</th>\n",
       "    </tr>\n",
       "  </thead>\n",
       "  <tbody>\n",
       "    <tr>\n",
       "      <th>0</th>\n",
       "      <td>10001</td>\n",
       "      <td>e0003</td>\n",
       "      <td>9/2/1953</td>\n",
       "      <td>Georgi</td>\n",
       "      <td>Facello</td>\n",
       "      <td>M</td>\n",
       "      <td>6/26/1986</td>\n",
       "      <td>9</td>\n",
       "      <td>C</td>\n",
       "      <td>True</td>\n",
       "      <td>7/30/1994\\r</td>\n",
       "      <td>60117</td>\n",
       "      <td>Senior Engineer</td>\n",
       "      <td>d005</td>\n",
       "      <td>development</td>\n",
       "    </tr>\n",
       "    <tr>\n",
       "      <th>1</th>\n",
       "      <td>10002</td>\n",
       "      <td>s0001</td>\n",
       "      <td>6/2/1964</td>\n",
       "      <td>Bezalel</td>\n",
       "      <td>Simmel</td>\n",
       "      <td>F</td>\n",
       "      <td>11/21/1985</td>\n",
       "      <td>8</td>\n",
       "      <td>B</td>\n",
       "      <td>False</td>\n",
       "      <td>\\r</td>\n",
       "      <td>65828</td>\n",
       "      <td>Staff</td>\n",
       "      <td>d007</td>\n",
       "      <td>Sales</td>\n",
       "    </tr>\n",
       "    <tr>\n",
       "      <th>2</th>\n",
       "      <td>10003</td>\n",
       "      <td>e0003</td>\n",
       "      <td>12/3/1959</td>\n",
       "      <td>Parto</td>\n",
       "      <td>Bamford</td>\n",
       "      <td>M</td>\n",
       "      <td>8/28/1986</td>\n",
       "      <td>1</td>\n",
       "      <td>C</td>\n",
       "      <td>False</td>\n",
       "      <td>\\r</td>\n",
       "      <td>40006</td>\n",
       "      <td>Senior Engineer</td>\n",
       "      <td>d004</td>\n",
       "      <td>Production</td>\n",
       "    </tr>\n",
       "    <tr>\n",
       "      <th>3</th>\n",
       "      <td>10004</td>\n",
       "      <td>e0003</td>\n",
       "      <td>5/1/1954</td>\n",
       "      <td>Chirstian</td>\n",
       "      <td>Koblick</td>\n",
       "      <td>M</td>\n",
       "      <td>12/1/1986</td>\n",
       "      <td>5</td>\n",
       "      <td>A</td>\n",
       "      <td>False</td>\n",
       "      <td>\\r</td>\n",
       "      <td>40054</td>\n",
       "      <td>Senior Engineer</td>\n",
       "      <td>d004</td>\n",
       "      <td>Production</td>\n",
       "    </tr>\n",
       "    <tr>\n",
       "      <th>4</th>\n",
       "      <td>10005</td>\n",
       "      <td>s0001</td>\n",
       "      <td>1/21/1955</td>\n",
       "      <td>Kyoichi</td>\n",
       "      <td>Maliniak</td>\n",
       "      <td>M</td>\n",
       "      <td>9/12/1989</td>\n",
       "      <td>6</td>\n",
       "      <td>A</td>\n",
       "      <td>False</td>\n",
       "      <td>\\r</td>\n",
       "      <td>78228</td>\n",
       "      <td>Staff</td>\n",
       "      <td>d003</td>\n",
       "      <td>Human Resources</td>\n",
       "    </tr>\n",
       "    <tr>\n",
       "      <th>...</th>\n",
       "      <td>...</td>\n",
       "      <td>...</td>\n",
       "      <td>...</td>\n",
       "      <td>...</td>\n",
       "      <td>...</td>\n",
       "      <td>...</td>\n",
       "      <td>...</td>\n",
       "      <td>...</td>\n",
       "      <td>...</td>\n",
       "      <td>...</td>\n",
       "      <td>...</td>\n",
       "      <td>...</td>\n",
       "      <td>...</td>\n",
       "      <td>...</td>\n",
       "      <td>...</td>\n",
       "    </tr>\n",
       "    <tr>\n",
       "      <th>331598</th>\n",
       "      <td>499995</td>\n",
       "      <td>e0002</td>\n",
       "      <td>9/24/1958</td>\n",
       "      <td>Dekang</td>\n",
       "      <td>Lichtner</td>\n",
       "      <td>F</td>\n",
       "      <td>1/12/1993</td>\n",
       "      <td>5</td>\n",
       "      <td>B</td>\n",
       "      <td>False</td>\n",
       "      <td>\\r</td>\n",
       "      <td>40000</td>\n",
       "      <td>Engineer</td>\n",
       "      <td>d004</td>\n",
       "      <td>Production</td>\n",
       "    </tr>\n",
       "    <tr>\n",
       "      <th>331599</th>\n",
       "      <td>499996</td>\n",
       "      <td>e0003</td>\n",
       "      <td>3/7/1953</td>\n",
       "      <td>Zito</td>\n",
       "      <td>Baaz</td>\n",
       "      <td>M</td>\n",
       "      <td>9/27/1990</td>\n",
       "      <td>8</td>\n",
       "      <td>B</td>\n",
       "      <td>True</td>\n",
       "      <td>12/15/1995\\r</td>\n",
       "      <td>58058</td>\n",
       "      <td>Senior Engineer</td>\n",
       "      <td>d004</td>\n",
       "      <td>Production</td>\n",
       "    </tr>\n",
       "    <tr>\n",
       "      <th>331600</th>\n",
       "      <td>499997</td>\n",
       "      <td>e0003</td>\n",
       "      <td>8/3/1961</td>\n",
       "      <td>Berhard</td>\n",
       "      <td>Lenart</td>\n",
       "      <td>M</td>\n",
       "      <td>4/21/1986</td>\n",
       "      <td>10</td>\n",
       "      <td>B</td>\n",
       "      <td>False</td>\n",
       "      <td>\\r</td>\n",
       "      <td>49597</td>\n",
       "      <td>Senior Engineer</td>\n",
       "      <td>d005</td>\n",
       "      <td>development</td>\n",
       "    </tr>\n",
       "    <tr>\n",
       "      <th>331601</th>\n",
       "      <td>499998</td>\n",
       "      <td>s0001</td>\n",
       "      <td>9/5/1956</td>\n",
       "      <td>Patricia</td>\n",
       "      <td>Breugel</td>\n",
       "      <td>M</td>\n",
       "      <td>10/13/1993</td>\n",
       "      <td>1</td>\n",
       "      <td>B</td>\n",
       "      <td>False</td>\n",
       "      <td>\\r</td>\n",
       "      <td>40000</td>\n",
       "      <td>Staff</td>\n",
       "      <td>d002</td>\n",
       "      <td>Finance</td>\n",
       "    </tr>\n",
       "    <tr>\n",
       "      <th>331602</th>\n",
       "      <td>499999</td>\n",
       "      <td>e0002</td>\n",
       "      <td>5/1/1958</td>\n",
       "      <td>Sachin</td>\n",
       "      <td>Tsukuda</td>\n",
       "      <td>M</td>\n",
       "      <td>11/30/1997</td>\n",
       "      <td>8</td>\n",
       "      <td>A</td>\n",
       "      <td>False</td>\n",
       "      <td>\\r</td>\n",
       "      <td>63707</td>\n",
       "      <td>Engineer</td>\n",
       "      <td>d004</td>\n",
       "      <td>Production</td>\n",
       "    </tr>\n",
       "  </tbody>\n",
       "</table>\n",
       "<p>331603 rows × 15 columns</p>\n",
       "</div>"
      ],
      "text/plain": [
       "        emp_no emp_titles_id birth_date first_name last_name sex   hire_date  \\\n",
       "0        10001         e0003   9/2/1953     Georgi   Facello   M   6/26/1986   \n",
       "1        10002         s0001   6/2/1964    Bezalel    Simmel   F  11/21/1985   \n",
       "2        10003         e0003  12/3/1959      Parto   Bamford   M   8/28/1986   \n",
       "3        10004         e0003   5/1/1954  Chirstian   Koblick   M   12/1/1986   \n",
       "4        10005         s0001  1/21/1955    Kyoichi  Maliniak   M   9/12/1989   \n",
       "...        ...           ...        ...        ...       ...  ..         ...   \n",
       "331598  499995         e0002  9/24/1958     Dekang  Lichtner   F   1/12/1993   \n",
       "331599  499996         e0003   3/7/1953       Zito      Baaz   M   9/27/1990   \n",
       "331600  499997         e0003   8/3/1961    Berhard    Lenart   M   4/21/1986   \n",
       "331601  499998         s0001   9/5/1956   Patricia   Breugel   M  10/13/1993   \n",
       "331602  499999         e0002   5/1/1958     Sachin   Tsukuda   M  11/30/1997   \n",
       "\n",
       "        no_of_projects last_performance_rating  left_company     last_date  \\\n",
       "0                    9                       C          True   7/30/1994\\r   \n",
       "1                    8                       B         False            \\r   \n",
       "2                    1                       C         False            \\r   \n",
       "3                    5                       A         False            \\r   \n",
       "4                    6                       A         False            \\r   \n",
       "...                ...                     ...           ...           ...   \n",
       "331598               5                       B         False            \\r   \n",
       "331599               8                       B          True  12/15/1995\\r   \n",
       "331600              10                       B         False            \\r   \n",
       "331601               1                       B         False            \\r   \n",
       "331602               8                       A         False            \\r   \n",
       "\n",
       "        salary            title dept_no        dept_name  \n",
       "0        60117  Senior Engineer    d005      development  \n",
       "1        65828            Staff    d007            Sales  \n",
       "2        40006  Senior Engineer    d004       Production  \n",
       "3        40054  Senior Engineer    d004       Production  \n",
       "4        78228            Staff    d003  Human Resources  \n",
       "...        ...              ...     ...              ...  \n",
       "331598   40000         Engineer    d004       Production  \n",
       "331599   58058  Senior Engineer    d004       Production  \n",
       "331600   49597  Senior Engineer    d005      development  \n",
       "331601   40000            Staff    d002          Finance  \n",
       "331602   63707         Engineer    d004       Production  \n",
       "\n",
       "[331603 rows x 15 columns]"
      ]
     },
     "execution_count": 46,
     "metadata": {},
     "output_type": "execute_result"
    }
   ],
   "source": [
    "data1.toPandas()"
   ]
  },
  {
   "cell_type": "markdown",
   "metadata": {},
   "source": [
    "### converting the string dates to datetime"
   ]
  },
  {
   "cell_type": "code",
   "execution_count": 90,
   "metadata": {},
   "outputs": [],
   "source": [
    "# selecting dates from data1 in b and coverting to pandas dataframe\n",
    "b=data1.select('emp_no', 'birth_date', 'hire_date', 'last_date').toPandas()"
   ]
  },
  {
   "cell_type": "code",
   "execution_count": 91,
   "metadata": {},
   "outputs": [
    {
     "data": {
      "text/html": [
       "<div>\n",
       "<style scoped>\n",
       "    .dataframe tbody tr th:only-of-type {\n",
       "        vertical-align: middle;\n",
       "    }\n",
       "\n",
       "    .dataframe tbody tr th {\n",
       "        vertical-align: top;\n",
       "    }\n",
       "\n",
       "    .dataframe thead th {\n",
       "        text-align: right;\n",
       "    }\n",
       "</style>\n",
       "<table border=\"1\" class=\"dataframe\">\n",
       "  <thead>\n",
       "    <tr style=\"text-align: right;\">\n",
       "      <th></th>\n",
       "      <th>emp_no</th>\n",
       "      <th>birth_date</th>\n",
       "      <th>hire_date</th>\n",
       "      <th>last_date</th>\n",
       "    </tr>\n",
       "  </thead>\n",
       "  <tbody>\n",
       "    <tr>\n",
       "      <th>0</th>\n",
       "      <td>10001</td>\n",
       "      <td>9/2/1953</td>\n",
       "      <td>6/26/1986</td>\n",
       "      <td>7/30/1994\\r</td>\n",
       "    </tr>\n",
       "    <tr>\n",
       "      <th>1</th>\n",
       "      <td>10002</td>\n",
       "      <td>6/2/1964</td>\n",
       "      <td>11/21/1985</td>\n",
       "      <td>\\r</td>\n",
       "    </tr>\n",
       "    <tr>\n",
       "      <th>2</th>\n",
       "      <td>10003</td>\n",
       "      <td>12/3/1959</td>\n",
       "      <td>8/28/1986</td>\n",
       "      <td>\\r</td>\n",
       "    </tr>\n",
       "    <tr>\n",
       "      <th>3</th>\n",
       "      <td>10004</td>\n",
       "      <td>5/1/1954</td>\n",
       "      <td>12/1/1986</td>\n",
       "      <td>\\r</td>\n",
       "    </tr>\n",
       "    <tr>\n",
       "      <th>4</th>\n",
       "      <td>10005</td>\n",
       "      <td>1/21/1955</td>\n",
       "      <td>9/12/1989</td>\n",
       "      <td>\\r</td>\n",
       "    </tr>\n",
       "  </tbody>\n",
       "</table>\n",
       "</div>"
      ],
      "text/plain": [
       "   emp_no birth_date   hire_date    last_date\n",
       "0   10001   9/2/1953   6/26/1986  7/30/1994\\r\n",
       "1   10002   6/2/1964  11/21/1985           \\r\n",
       "2   10003  12/3/1959   8/28/1986           \\r\n",
       "3   10004   5/1/1954   12/1/1986           \\r\n",
       "4   10005  1/21/1955   9/12/1989           \\r"
      ]
     },
     "execution_count": 91,
     "metadata": {},
     "output_type": "execute_result"
    }
   ],
   "source": [
    "b.head()"
   ]
  },
  {
   "cell_type": "code",
   "execution_count": 92,
   "metadata": {},
   "outputs": [
    {
     "data": {
      "text/plain": [
       "0    9/2/1953\n",
       "1    6/2/1964\n",
       "Name: birth_date, dtype: object"
      ]
     },
     "execution_count": 92,
     "metadata": {},
     "output_type": "execute_result"
    }
   ],
   "source": [
    "b.birth_date.head(2)"
   ]
  },
  {
   "cell_type": "code",
   "execution_count": 93,
   "metadata": {},
   "outputs": [],
   "source": [
    "# coverting the string date to datetime\n",
    "b.birth_date=pd.to_datetime(b.birth_date)\n",
    "b.hire_date=pd.to_datetime(b.hire_date)"
   ]
  },
  {
   "cell_type": "code",
   "execution_count": 57,
   "metadata": {},
   "outputs": [
    {
     "data": {
      "text/plain": [
       "emp_no                 int32\n",
       "birth_date    datetime64[ns]\n",
       "hire_date     datetime64[ns]\n",
       "last_date             object\n",
       "dtype: object"
      ]
     },
     "execution_count": 57,
     "metadata": {},
     "output_type": "execute_result"
    }
   ],
   "source": [
    "b.dtypes"
   ]
  },
  {
   "cell_type": "code",
   "execution_count": 95,
   "metadata": {},
   "outputs": [
    {
     "data": {
      "text/plain": [
       "0          7/30/1994\\r\n",
       "1                   \\r\n",
       "2                   \\r\n",
       "3                   \\r\n",
       "4                   \\r\n",
       "              ...     \n",
       "331598              \\r\n",
       "331599    12/15/1995\\r\n",
       "331600              \\r\n",
       "331601              \\r\n",
       "331602              \\r\n",
       "Name: last_date, Length: 331603, dtype: object"
      ]
     },
     "execution_count": 95,
     "metadata": {},
     "output_type": "execute_result"
    }
   ],
   "source": [
    "b.last_date"
   ]
  },
  {
   "cell_type": "code",
   "execution_count": 106,
   "metadata": {},
   "outputs": [],
   "source": [
    "b['last_date']=pd.to_datetime(b.last_date[b.last_date!=\"\\r\"])"
   ]
  },
  {
   "cell_type": "code",
   "execution_count": 108,
   "metadata": {},
   "outputs": [
    {
     "data": {
      "text/plain": [
       "0   1994-07-30\n",
       "1          NaT\n",
       "2          NaT\n",
       "3          NaT\n",
       "Name: last_date, dtype: datetime64[ns]"
      ]
     },
     "execution_count": 108,
     "metadata": {},
     "output_type": "execute_result"
    }
   ],
   "source": [
    "b.last_date.head(4)"
   ]
  },
  {
   "cell_type": "code",
   "execution_count": 109,
   "metadata": {},
   "outputs": [
    {
     "data": {
      "text/plain": [
       "emp_no                 int32\n",
       "birth_date    datetime64[ns]\n",
       "hire_date     datetime64[ns]\n",
       "last_date     datetime64[ns]\n",
       "dtype: object"
      ]
     },
     "execution_count": 109,
     "metadata": {},
     "output_type": "execute_result"
    }
   ],
   "source": [
    "b.dtypes"
   ]
  },
  {
   "cell_type": "code",
   "execution_count": 110,
   "metadata": {},
   "outputs": [
    {
     "data": {
      "text/html": [
       "<div>\n",
       "<style scoped>\n",
       "    .dataframe tbody tr th:only-of-type {\n",
       "        vertical-align: middle;\n",
       "    }\n",
       "\n",
       "    .dataframe tbody tr th {\n",
       "        vertical-align: top;\n",
       "    }\n",
       "\n",
       "    .dataframe thead th {\n",
       "        text-align: right;\n",
       "    }\n",
       "</style>\n",
       "<table border=\"1\" class=\"dataframe\">\n",
       "  <thead>\n",
       "    <tr style=\"text-align: right;\">\n",
       "      <th></th>\n",
       "      <th>emp_no</th>\n",
       "      <th>birth_date</th>\n",
       "      <th>hire_date</th>\n",
       "      <th>last_date</th>\n",
       "    </tr>\n",
       "  </thead>\n",
       "  <tbody>\n",
       "    <tr>\n",
       "      <th>0</th>\n",
       "      <td>10001</td>\n",
       "      <td>1953-09-02</td>\n",
       "      <td>1986-06-26</td>\n",
       "      <td>1994-07-30</td>\n",
       "    </tr>\n",
       "    <tr>\n",
       "      <th>1</th>\n",
       "      <td>10002</td>\n",
       "      <td>1964-06-02</td>\n",
       "      <td>1985-11-21</td>\n",
       "      <td>NaT</td>\n",
       "    </tr>\n",
       "    <tr>\n",
       "      <th>2</th>\n",
       "      <td>10003</td>\n",
       "      <td>1959-12-03</td>\n",
       "      <td>1986-08-28</td>\n",
       "      <td>NaT</td>\n",
       "    </tr>\n",
       "    <tr>\n",
       "      <th>3</th>\n",
       "      <td>10004</td>\n",
       "      <td>1954-05-01</td>\n",
       "      <td>1986-12-01</td>\n",
       "      <td>NaT</td>\n",
       "    </tr>\n",
       "  </tbody>\n",
       "</table>\n",
       "</div>"
      ],
      "text/plain": [
       "   emp_no birth_date  hire_date  last_date\n",
       "0   10001 1953-09-02 1986-06-26 1994-07-30\n",
       "1   10002 1964-06-02 1985-11-21        NaT\n",
       "2   10003 1959-12-03 1986-08-28        NaT\n",
       "3   10004 1954-05-01 1986-12-01        NaT"
      ]
     },
     "execution_count": 110,
     "metadata": {},
     "output_type": "execute_result"
    }
   ],
   "source": [
    "b.head(4)"
   ]
  },
  {
   "cell_type": "code",
   "execution_count": 112,
   "metadata": {},
   "outputs": [],
   "source": [
    "#creating pandas dataframe to spark dataframe \n",
    "bdf=spark.createDataFrame(b)"
   ]
  },
  {
   "cell_type": "code",
   "execution_count": 113,
   "metadata": {},
   "outputs": [
    {
     "name": "stdout",
     "output_type": "stream",
     "text": [
      "+------+-------------------+-------------------+-------------------+\n",
      "|emp_no|         birth_date|          hire_date|          last_date|\n",
      "+------+-------------------+-------------------+-------------------+\n",
      "| 10001|1953-09-02 00:00:00|1986-06-26 00:00:00|1994-07-30 00:00:00|\n",
      "| 10002|1964-06-02 00:00:00|1985-11-21 00:00:00|               null|\n",
      "| 10003|1959-12-03 00:00:00|1986-08-28 00:00:00|               null|\n",
      "| 10004|1954-05-01 00:00:00|1986-12-01 00:00:00|               null|\n",
      "+------+-------------------+-------------------+-------------------+\n",
      "only showing top 4 rows\n",
      "\n"
     ]
    }
   ],
   "source": [
    "bdf.show(4)"
   ]
  },
  {
   "cell_type": "code",
   "execution_count": 115,
   "metadata": {},
   "outputs": [
    {
     "data": {
      "text/plain": [
       "[('emp_no', 'bigint'),\n",
       " ('birth_date', 'timestamp'),\n",
       " ('hire_date', 'timestamp'),\n",
       " ('last_date', 'timestamp')]"
      ]
     },
     "execution_count": 115,
     "metadata": {},
     "output_type": "execute_result"
    }
   ],
   "source": [
    "bdf.dtypes"
   ]
  },
  {
   "cell_type": "code",
   "execution_count": 126,
   "metadata": {},
   "outputs": [],
   "source": [
    "#now joining data1 and bdf on emp_no column and assigning into data12\n",
    "\n",
    "data11=data1.drop('birth_date', 'hire_date', 'last_date')\n",
    "data12=data11.join(bdf, on='emp_no', how='inner' )"
   ]
  },
  {
   "cell_type": "code",
   "execution_count": 127,
   "metadata": {},
   "outputs": [
    {
     "data": {
      "text/plain": [
       "[('emp_no', 'int'),\n",
       " ('emp_titles_id', 'string'),\n",
       " ('first_name', 'string'),\n",
       " ('last_name', 'string'),\n",
       " ('sex', 'string'),\n",
       " ('no_of_projects', 'int'),\n",
       " ('last_performance_rating', 'string'),\n",
       " ('left_company', 'boolean'),\n",
       " ('salary', 'int'),\n",
       " ('title', 'string'),\n",
       " ('dept_no', 'string'),\n",
       " ('dept_name', 'string'),\n",
       " ('birth_date', 'timestamp'),\n",
       " ('hire_date', 'timestamp'),\n",
       " ('last_date', 'timestamp')]"
      ]
     },
     "execution_count": 127,
     "metadata": {},
     "output_type": "execute_result"
    }
   ],
   "source": [
    "#this is our correct table with all variable being correctly represented by their datatypes\n",
    "data12.dtypes"
   ]
  },
  {
   "cell_type": "code",
   "execution_count": 129,
   "metadata": {},
   "outputs": [
    {
     "data": {
      "text/plain": [
       "394761"
      ]
     },
     "execution_count": 129,
     "metadata": {},
     "output_type": "execute_result"
    }
   ],
   "source": [
    "data12.count()"
   ]
  },
  {
   "cell_type": "code",
   "execution_count": 131,
   "metadata": {},
   "outputs": [
    {
     "name": "stdout",
     "output_type": "stream",
     "text": [
      "+------+-------------+----------+---------+---+--------------+-----------------------+------------+------+---------------+-------+------------------+-------------------+-------------------+---------+\n",
      "|emp_no|emp_titles_id|first_name|last_name|sex|no_of_projects|last_performance_rating|left_company|salary|          title|dept_no|         dept_name|         birth_date|          hire_date|last_date|\n",
      "+------+-------------+----------+---------+---+--------------+-----------------------+------------+------+---------------+-------+------------------+-------------------+-------------------+---------+\n",
      "| 10156|        e0003|    Sumali|  Fargier|  M|             5|                      B|       false| 49879|Senior Engineer|   d006|Quality Management|1964-09-19 00:00:00|1985-03-10 00:00:00|     null|\n",
      "| 10422|        e0002|    Greger|   Rubsam|  F|             5|                      S|       false| 45725|       Engineer|   d006|Quality Management|1954-06-02 00:00:00|1990-12-07 00:00:00|     null|\n",
      "| 10422|        e0002|    Greger|   Rubsam|  F|             5|                      S|       false| 45725|       Engineer|   d006|Quality Management|1954-06-02 00:00:00|1990-12-07 00:00:00|     null|\n",
      "| 10422|        e0002|    Greger|   Rubsam|  F|             5|                      S|       false| 45725|       Engineer|   d004|        Production|1954-06-02 00:00:00|1990-12-07 00:00:00|     null|\n",
      "+------+-------------+----------+---------+---+--------------+-----------------------+------------+------+---------------+-------+------------------+-------------------+-------------------+---------+\n",
      "only showing top 4 rows\n",
      "\n"
     ]
    }
   ],
   "source": [
    "data12.show(4)"
   ]
  },
  {
   "cell_type": "code",
   "execution_count": 130,
   "metadata": {},
   "outputs": [
    {
     "name": "stdout",
     "output_type": "stream",
     "text": [
      "+-------+------------------+-------------+----------+---------+------+-----------------+-----------------------+------------------+------------------+-------+----------------+\n",
      "|summary|            emp_no|emp_titles_id|first_name|last_name|   sex|   no_of_projects|last_performance_rating|            salary|             title|dept_no|       dept_name|\n",
      "+-------+------------------+-------------+----------+---------+------+-----------------+-----------------------+------------------+------------------+-------+----------------+\n",
      "|  count|            394761|       394761|    394761|   394761|394761|           394761|                 394761|            394761|            394761| 394761|          394761|\n",
      "|   mean|253349.08461575484|         null|      null|     null|  null| 5.50490296660511|                   null| 52974.49480571789|              null|   null|            null|\n",
      "| stddev|161837.51753040068|         null|      null|     null|  null|2.873974487591199|                   null|14295.239068512406|              null|   null|            null|\n",
      "|    min|             10001|        e0001|     Aamer|   Aamodt|     F|                1|                      A|             40000|Assistant Engineer|   d001|Customer Service|\n",
      "|    max|            499999|        s0002|    Zvonko|  dAstous|     M|               10|                      S|            129492|  Technique Leader|   d009|     development|\n",
      "+-------+------------------+-------------+----------+---------+------+-----------------+-----------------------+------------------+------------------+-------+----------------+\n",
      "\n"
     ]
    }
   ],
   "source": [
    "data12.describe().show()"
   ]
  },
  {
   "cell_type": "code",
   "execution_count": 190,
   "metadata": {},
   "outputs": [],
   "source": [
    "#Keep a copy of the original dataframe for later use\n",
    "datafinal=data12"
   ]
  },
  {
   "cell_type": "code",
   "execution_count": 191,
   "metadata": {},
   "outputs": [],
   "source": [
    "#droping irrelevant columns \n",
    "datafinal=datafinal.drop('emp_no','first_name','last_name')"
   ]
  },
  {
   "cell_type": "code",
   "execution_count": 192,
   "metadata": {},
   "outputs": [
    {
     "data": {
      "text/plain": [
       "[('emp_titles_id', 'string'),\n",
       " ('sex', 'string'),\n",
       " ('no_of_projects', 'int'),\n",
       " ('last_performance_rating', 'string'),\n",
       " ('left_company', 'boolean'),\n",
       " ('salary', 'int'),\n",
       " ('title', 'string'),\n",
       " ('dept_no', 'string'),\n",
       " ('dept_name', 'string'),\n",
       " ('birth_date', 'timestamp'),\n",
       " ('hire_date', 'timestamp'),\n",
       " ('last_date', 'timestamp')]"
      ]
     },
     "execution_count": 192,
     "metadata": {},
     "output_type": "execute_result"
    }
   ],
   "source": [
    "datafinal.dtypes"
   ]
  },
  {
   "cell_type": "code",
   "execution_count": 148,
   "metadata": {},
   "outputs": [],
   "source": [
    "from pyspark.sql import functions as F "
   ]
  },
  {
   "cell_type": "code",
   "execution_count": 193,
   "metadata": {},
   "outputs": [],
   "source": [
    "#converting left_company boolean to int\n",
    "datafinal = datafinal.withColumn('left_company', F.when(datafinal['left_company']=='true',1).otherwise(0))"
   ]
  },
  {
   "cell_type": "code",
   "execution_count": 194,
   "metadata": {},
   "outputs": [
    {
     "name": "stdout",
     "output_type": "stream",
     "text": [
      "+------------+\n",
      "|left_company|\n",
      "+------------+\n",
      "|           0|\n",
      "|           0|\n",
      "|           0|\n",
      "|           0|\n",
      "|           0|\n",
      "|           1|\n",
      "|           0|\n",
      "+------------+\n",
      "only showing top 7 rows\n",
      "\n"
     ]
    }
   ],
   "source": [
    "datafinal.select('left_company').show(7)"
   ]
  },
  {
   "cell_type": "code",
   "execution_count": 195,
   "metadata": {},
   "outputs": [],
   "source": [
    "#Columns that will be used as features and their types\n",
    "continuous_features = ['no_of_projects', 'salary']\n",
    "\n",
    "categorical_features = ['emp_titles_id','sex',\n",
    "                      'last_performance_rating', 'left_company',\n",
    "                      'title','dept_no','dept_name']"
   ]
  },
  {
   "cell_type": "markdown",
   "metadata": {},
   "source": [
    "### preprocessing data"
   ]
  },
  {
   "cell_type": "code",
   "execution_count": 142,
   "metadata": {},
   "outputs": [],
   "source": [
    "#Encoding all categorical features\n",
    "from pyspark.ml.feature import OneHotEncoder, StringIndexer, VectorAssembler, PolynomialExpansion, VectorIndexer"
   ]
  },
  {
   "cell_type": "code",
   "execution_count": 196,
   "metadata": {},
   "outputs": [
    {
     "name": "stdout",
     "output_type": "stream",
     "text": [
      "+-------------+-------------------+---+---------+-----------------------+-----------------------------+------------+------------------+---------------+-----------+-------+-------------+------------------+---------------+\n",
      "|emp_titles_id|emp_titles_id_index|sex|sex_index|last_performance_rating|last_performance_rating_index|left_company|left_company_index|          title|title_index|dept_no|dept_no_index|         dept_name|dept_name_index|\n",
      "+-------------+-------------------+---+---------+-----------------------+-----------------------------+------------+------------------+---------------+-----------+-------+-------------+------------------+---------------+\n",
      "|        e0003|                1.0|  M|      0.0|                      B|                          0.0|           0|               0.0|Senior Engineer|        1.0|   d006|          6.0|Quality Management|            6.0|\n",
      "|        e0002|                2.0|  F|      1.0|                      S|                          4.0|           0|               0.0|       Engineer|        2.0|   d006|          6.0|Quality Management|            6.0|\n",
      "|        e0002|                2.0|  F|      1.0|                      S|                          4.0|           0|               0.0|       Engineer|        2.0|   d006|          6.0|Quality Management|            6.0|\n",
      "|        e0002|                2.0|  F|      1.0|                      S|                          4.0|           0|               0.0|       Engineer|        2.0|   d004|          1.0|        Production|            1.0|\n",
      "|        e0002|                2.0|  F|      1.0|                      S|                          4.0|           0|               0.0|       Engineer|        2.0|   d004|          1.0|        Production|            1.0|\n",
      "|        s0001|                0.0|  M|      0.0|                      B|                          0.0|           1|               1.0|          Staff|        0.0|   d009|          3.0|  Customer Service|            3.0|\n",
      "|        s0001|                0.0|  M|      0.0|                      A|                          1.0|           0|               0.0|          Staff|        0.0|   d007|          2.0|             Sales|            2.0|\n",
      "|        s0001|                0.0|  M|      0.0|                      C|                          2.0|           0|               0.0|          Staff|        0.0|   d007|          2.0|             Sales|            2.0|\n",
      "|        s0001|                0.0|  M|      0.0|                      C|                          2.0|           0|               0.0|          Staff|        0.0|   d007|          2.0|             Sales|            2.0|\n",
      "|        s0001|                0.0|  M|      0.0|                      C|                          2.0|           0|               0.0|          Staff|        0.0|   d001|          5.0|         Marketing|            5.0|\n",
      "+-------------+-------------------+---+---------+-----------------------+-----------------------------+------------+------------------+---------------+-----------+-------+-------------+------------------+---------------+\n",
      "only showing top 10 rows\n",
      "\n"
     ]
    }
   ],
   "source": [
    "# create object of StringIndexer class and specify input and output column\n",
    "si_emp_titles_id = StringIndexer(inputCol='emp_titles_id',outputCol='emp_titles_id_index')\n",
    "si_sex = StringIndexer(inputCol='sex',outputCol='sex_index')\n",
    "si_last_performance_rating = StringIndexer(inputCol='last_performance_rating',outputCol='last_performance_rating_index')\n",
    "si_left_company = StringIndexer(inputCol='left_company',outputCol='left_company_index')\n",
    "si_title = StringIndexer(inputCol='title',outputCol='title_index')\n",
    "si_dept_no = StringIndexer(inputCol='dept_no',outputCol='dept_no_index')\n",
    "si_dept_name = StringIndexer(inputCol='dept_name',outputCol='dept_name_index')\n",
    "\n",
    "\n",
    "# transform the data\n",
    "datafinal = si_emp_titles_id.fit(datafinal).transform(datafinal)\n",
    "datafinal = si_sex.fit(datafinal).transform(datafinal)\n",
    "datafinal = si_last_performance_rating.fit(datafinal).transform(datafinal)\n",
    "datafinal = si_left_company.fit(datafinal).transform(datafinal)\n",
    "datafinal = si_title.fit(datafinal).transform(datafinal)\n",
    "datafinal = si_dept_no.fit(datafinal).transform(datafinal)\n",
    "datafinal = si_dept_name.fit(datafinal).transform(datafinal)\n",
    "\n",
    "\n",
    "# view the transformed data\n",
    "datafinal.select('emp_titles_id', 'emp_titles_id_index', 'sex', 'sex_index','last_performance_rating',\n",
    "                   'last_performance_rating_index','left_company','left_company_index','title','title_index',\n",
    "                   'dept_no','dept_no_index','dept_name','dept_name_index').show(10)"
   ]
  },
  {
   "cell_type": "code",
   "execution_count": 207,
   "metadata": {},
   "outputs": [
    {
     "name": "stderr",
     "output_type": "stream",
     "text": [
      "Exception ignored in: <function JavaWrapper.__del__ at 0x7f63302138c0>\n",
      "Traceback (most recent call last):\n",
      "  File \"/opt/anaconda3/lib/python3.7/site-packages/pyspark/ml/wrapper.py\", line 40, in __del__\n",
      "    if SparkContext._active_spark_context and self._java_obj is not None:\n",
      "AttributeError: 'OneHotEncoder' object has no attribute '_java_obj'\n"
     ]
    }
   ],
   "source": [
    "def create_category_vars( dataset, field_name ):\n",
    "    idx_col = field_name + \"Index\"\n",
    "    col_vec = field_name + \"Vec\"\n",
    "\n",
    "    month_stringIndexer = StringIndexer( inputCol=field_name, outputCol=idx_col )\n",
    "\n",
    "    month_model = month_stringIndexer.fit( dataset )\n",
    "    month_indexed = month_model.transform( dataset )\n",
    "\n",
    "    month_encoder = OneHotEncoder( dropLast=True,inputCol=idx_col,outputCol= col_vec )\n",
    "\n",
    "    return month_encoder.transform( month_indexed )"
   ]
  },
  {
   "cell_type": "code",
   "execution_count": 208,
   "metadata": {},
   "outputs": [],
   "source": [
    "for  col in  categorical_features:\n",
    "    datafinal = create_category_vars( datafinal, col )\n",
    "    datafinal.cache()"
   ]
  },
  {
   "cell_type": "code",
   "execution_count": 233,
   "metadata": {},
   "outputs": [
    {
     "data": {
      "text/plain": [
       "['emp_titles_id',\n",
       " 'sex',\n",
       " 'no_of_projects',\n",
       " 'last_performance_rating',\n",
       " 'left_company',\n",
       " 'salary',\n",
       " 'title',\n",
       " 'dept_no',\n",
       " 'dept_name',\n",
       " 'birth_date',\n",
       " 'hire_date',\n",
       " 'last_date',\n",
       " 'emp_titles_id_index',\n",
       " 'sex_index',\n",
       " 'last_performance_rating_index',\n",
       " 'left_company_index',\n",
       " 'title_index',\n",
       " 'dept_no_index',\n",
       " 'dept_name_index',\n",
       " 'emp_titles_idIndex',\n",
       " 'emp_titles_idVec',\n",
       " 'sexIndex',\n",
       " 'sexVec',\n",
       " 'last_performance_ratingIndex',\n",
       " 'last_performance_ratingVec',\n",
       " 'left_companyIndex',\n",
       " 'left_companyVec',\n",
       " 'titleIndex',\n",
       " 'titleVec',\n",
       " 'dept_noIndex',\n",
       " 'dept_noVec',\n",
       " 'dept_nameIndex',\n",
       " 'dept_nameVec']"
      ]
     },
     "execution_count": 233,
     "metadata": {},
     "output_type": "execute_result"
    }
   ],
   "source": [
    "datafinal.columns"
   ]
  },
  {
   "cell_type": "code",
   "execution_count": 210,
   "metadata": {},
   "outputs": [],
   "source": [
    "categorical_vecs = [ \"\".join( (cat, \"Vec\") ) for cat in categorical_features ]"
   ]
  },
  {
   "cell_type": "code",
   "execution_count": 213,
   "metadata": {},
   "outputs": [
    {
     "data": {
      "text/plain": [
       "['emp_titles_idVec',\n",
       " 'sexVec',\n",
       " 'last_performance_ratingVec',\n",
       " 'left_companyVec',\n",
       " 'titleVec',\n",
       " 'dept_noVec',\n",
       " 'dept_nameVec']"
      ]
     },
     "execution_count": 213,
     "metadata": {},
     "output_type": "execute_result"
    }
   ],
   "source": [
    "categorical_vecs"
   ]
  },
  {
   "cell_type": "code",
   "execution_count": 223,
   "metadata": {},
   "outputs": [],
   "source": [
    "#Create vectors from all features column\n",
    "featureCols = featureCols = ['no_of_projects',\n",
    " 'salary',\n",
    " 'emp_titles_idVec',\n",
    " 'sexVec',\n",
    " 'last_performance_ratingVec',\n",
    " 'titleVec',\n",
    " 'dept_noVec',\n",
    " 'dept_nameVec']"
   ]
  },
  {
   "cell_type": "code",
   "execution_count": 235,
   "metadata": {},
   "outputs": [],
   "source": [
    "# Creating the vector of all predictors\n",
    "assembler = VectorAssembler( inputCols = featureCols, outputCol = \"features\")"
   ]
  },
  {
   "cell_type": "code",
   "execution_count": 236,
   "metadata": {},
   "outputs": [],
   "source": [
    "datafinal = assembler.transform( datafinal )"
   ]
  },
  {
   "cell_type": "code",
   "execution_count": 240,
   "metadata": {},
   "outputs": [],
   "source": [
    "# Setting the target variables\n",
    "datafinal = datafinal.withColumn( \"label\", datafinal.left_companyIndex)"
   ]
  },
  {
   "cell_type": "code",
   "execution_count": 241,
   "metadata": {},
   "outputs": [
    {
     "name": "stdout",
     "output_type": "stream",
     "text": [
      "+--------------------+-----+\n",
      "|            features|label|\n",
      "+--------------------+-----+\n",
      "|(35,[0,1,3,8,9,14...|  0.0|\n",
      "|(35,[0,1,4,15,25,...|  0.0|\n",
      "|(35,[0,1,4,15,25,...|  0.0|\n",
      "|(35,[0,1,4,15,20,...|  0.0|\n",
      "|(35,[0,1,4,15,20,...|  0.0|\n",
      "+--------------------+-----+\n",
      "only showing top 5 rows\n",
      "\n"
     ]
    }
   ],
   "source": [
    "datafinal.select( \"features\", \"label\" ).show( 5 )"
   ]
  },
  {
   "cell_type": "code",
   "execution_count": 242,
   "metadata": {},
   "outputs": [],
   "source": [
    "#Split the dataset\n",
    "train_df, test_df = datafinal.randomSplit( [0.7, 0.3], seed = 42 )"
   ]
  },
  {
   "cell_type": "code",
   "execution_count": 243,
   "metadata": {},
   "outputs": [],
   "source": [
    "#Train Linear Regression Model\n",
    "from pyspark.ml.classification import LogisticRegression"
   ]
  },
  {
   "cell_type": "code",
   "execution_count": 255,
   "metadata": {},
   "outputs": [],
   "source": [
    "logistic = LogisticRegression(featuresCol='features', labelCol='label')"
   ]
  },
  {
   "cell_type": "code",
   "execution_count": 256,
   "metadata": {},
   "outputs": [],
   "source": [
    "# training model \n",
    "model=logistic.fit(train_df)"
   ]
  },
  {
   "cell_type": "code",
   "execution_count": 259,
   "metadata": {},
   "outputs": [],
   "source": [
    "pred_train=model.transform(train_df)"
   ]
  },
  {
   "cell_type": "code",
   "execution_count": 265,
   "metadata": {},
   "outputs": [
    {
     "data": {
      "text/plain": [
       "DenseMatrix(1, 35, [0.0035, -0.0, 0.0116, 0.0252, 0.0232, 0.0062, 0.0393, -0.0022, ..., 0.004, 0.0135, 0.0252, 0.0262, 0.0051, -0.0071, -0.009, 0.0042], 1)"
      ]
     },
     "execution_count": 265,
     "metadata": {},
     "output_type": "execute_result"
    }
   ],
   "source": [
    "model.coefficientMatrix"
   ]
  },
  {
   "cell_type": "code",
   "execution_count": 266,
   "metadata": {},
   "outputs": [
    {
     "data": {
      "text/plain": [
       "DenseVector([0.0035, -0.0, 0.0116, 0.0252, 0.0232, 0.0062, 0.0393, -0.0022, 0.0022, -0.0404, -0.0249, -0.0205, -0.017, 0.0116, 0.0252, 0.0232, 0.0062, 0.0393, -0.0022, 0.004, 0.0135, 0.0252, 0.0262, 0.0051, -0.0071, -0.009, 0.0042, 0.004, 0.0135, 0.0252, 0.0262, 0.0051, -0.0071, -0.009, 0.0042])"
      ]
     },
     "execution_count": 266,
     "metadata": {},
     "output_type": "execute_result"
    }
   ],
   "source": [
    "model.coefficients"
   ]
  },
  {
   "cell_type": "code",
   "execution_count": 267,
   "metadata": {},
   "outputs": [
    {
     "data": {
      "text/plain": [
       "-2.1889212364292177"
      ]
     },
     "execution_count": 267,
     "metadata": {},
     "output_type": "execute_result"
    }
   ],
   "source": [
    "model.intercept"
   ]
  },
  {
   "cell_type": "code",
   "execution_count": 271,
   "metadata": {},
   "outputs": [],
   "source": [
    "training_summary = model.summary"
   ]
  },
  {
   "cell_type": "code",
   "execution_count": 275,
   "metadata": {},
   "outputs": [
    {
     "name": "stdout",
     "output_type": "stream",
     "text": [
      "+--------------------+--------------------+\n",
      "|                 FPR|                 TPR|\n",
      "+--------------------+--------------------+\n",
      "|                 0.0|                 0.0|\n",
      "|  0.0090140392456165|              0.0104|\n",
      "| 0.01501536483962321| 0.01698181818181818|\n",
      "|0.023989234569884915| 0.02661818181818182|\n",
      "|0.033846833637952156| 0.03709090909090909|\n",
      "| 0.04421458555102533|0.048327272727272726|\n",
      "| 0.05237703107112013| 0.05690909090909091|\n",
      "|0.059221916487577575|              0.0636|\n",
      "| 0.06711120930325976| 0.07229090909090909|\n",
      "| 0.07364277249994979| 0.07883636363636363|\n",
      "| 0.08116250577436783| 0.08578181818181818|\n",
      "| 0.08816806925224448| 0.09294545454545454|\n",
      "| 0.09618188756552652| 0.10127272727272728|\n",
      "| 0.10249653537930065| 0.10730909090909091|\n",
      "| 0.11100042177991122| 0.11596363636363637|\n",
      "| 0.11811042599771034| 0.12327272727272727|\n",
      "| 0.12397517523951074| 0.12945454545454546|\n",
      "| 0.13149490851392878| 0.13643636363636363|\n",
      "| 0.13912711643134026| 0.14396363636363638|\n",
      "|  0.1453614252144048| 0.14978181818181818|\n",
      "+--------------------+--------------------+\n",
      "only showing top 20 rows\n",
      "\n"
     ]
    }
   ],
   "source": [
    "training_summary.roc.show()"
   ]
  },
  {
   "cell_type": "markdown",
   "metadata": {},
   "source": [
    "## Random Forest Classifier "
   ]
  },
  {
   "cell_type": "code",
   "execution_count": 276,
   "metadata": {},
   "outputs": [],
   "source": [
    "# \n",
    "\n",
    "from pyspark.ml import Pipeline\n",
    "from pyspark.ml.classification import RandomForestClassifier\n",
    "from pyspark.ml.feature import *\n",
    "from pyspark.ml.evaluation import MulticlassClassificationEvaluator, BinaryClassificationEvaluator\n",
    "\n",
    "from sklearn.metrics import confusion_matrix\n",
    "from sklearn.metrics import precision_score\n",
    "from sklearn.metrics import recall_score"
   ]
  },
  {
   "cell_type": "code",
   "execution_count": 277,
   "metadata": {},
   "outputs": [],
   "source": [
    "def train(df, classifier):\n",
    "    train, test = df.randomSplit([.7,.3])\n",
    "\n",
    "    model = classifier.fit(train)\n",
    "\n",
    "    pred = model.transform(test)\n",
    "    \n",
    "    eval_accuracy = (MulticlassClassificationEvaluator\n",
    "            (labelCol=\"label\", predictionCol=\"prediction\", metricName=\"accuracy\"))\n",
    "      \n",
    "    eval_precision = (MulticlassClassificationEvaluator\n",
    "            (labelCol=\"label\", predictionCol=\"prediction\", metricName=\"weightedPrecision\"))\n",
    "      \n",
    "    eval_recall = (MulticlassClassificationEvaluator\n",
    "            (labelCol=\"label\", predictionCol=\"prediction\", metricName=\"weightedRecall\"))\n",
    "      \n",
    "    eval_f1 = (MulticlassClassificationEvaluator\n",
    "            (labelCol=\"label\", predictionCol=\"prediction\", metricName=\"f1\"))\n",
    "    \n",
    "    accuracy = eval_accuracy.evaluate(pred)\n",
    "    \n",
    "    precision =  eval_precision.evaluate(pred)\n",
    "    \n",
    "    recall =  eval_recall.evaluate(pred)\n",
    "    \n",
    "    f1 =  eval_f1.evaluate(pred)\n",
    "    \n",
    "    print(f\"\"\"\n",
    "    Accuracy  = {accuracy}\n",
    "    Error     = {1-accuracy}\n",
    "    Precision = {precision}\n",
    "    Recall    = {recall}\n",
    "    F1        = {f1}\"\"\")\n",
    "\n",
    "    return model, pred"
   ]
  },
  {
   "cell_type": "code",
   "execution_count": 280,
   "metadata": {},
   "outputs": [
    {
     "name": "stdout",
     "output_type": "stream",
     "text": [
      "\n",
      "    Accuracy  = 0.9006221128232795\n",
      "    Error     = 0.09937788717672047\n",
      "    Precision = 0.811120190106268\n",
      "    Recall    = 0.9006221128232795\n",
      "    F1        = 0.8535312565646093\n",
      "+----------+-----+--------------------+\n",
      "|prediction|label|            features|\n",
      "+----------+-----+--------------------+\n",
      "|       0.0|  1.0|(35,[0,1,7,10,18,...|\n",
      "|       0.0|  0.0|(35,[0,1,7,10,18,...|\n",
      "|       0.0|  0.0|(35,[0,1,7,11,18,...|\n",
      "|       0.0|  0.0|(35,[0,1,7,11,18,...|\n",
      "|       0.0|  0.0|(35,[0,1,7,10,18,...|\n",
      "|       0.0|  0.0|(35,[0,1,7,10,18,...|\n",
      "|       0.0|  0.0|(35,[0,1,7,8,10,1...|\n",
      "|       0.0|  0.0|(35,[0,1,7,8,10,1...|\n",
      "|       0.0|  0.0|(35,[0,1,7,8,11,1...|\n",
      "|       0.0|  0.0|(35,[0,1,7,8,10,1...|\n",
      "|       0.0|  0.0|(35,[0,1,7,8,11,1...|\n",
      "|       0.0|  0.0|(35,[0,1,7,8,11,1...|\n",
      "|       0.0|  0.0|(35,[0,1,7,8,11,1...|\n",
      "|       0.0|  0.0|(35,[0,1,7,8,11,1...|\n",
      "|       0.0|  0.0|(35,[0,1,4,9,15,2...|\n",
      "|       0.0|  0.0|(35,[0,1,4,9,15,2...|\n",
      "|       0.0|  0.0|(35,[0,1,4,12,15,...|\n",
      "|       0.0|  0.0|(35,[0,1,4,10,15,...|\n",
      "|       0.0|  0.0|(35,[0,1,4,10,15,...|\n",
      "|       0.0|  1.0|(35,[0,1,4,10,15,...|\n",
      "+----------+-----+--------------------+\n",
      "only showing top 20 rows\n",
      "\n"
     ]
    }
   ],
   "source": [
    "rf = RandomForestClassifier(labelCol=\"label\", featuresCol=\"features\")\n",
    "\n",
    "_ , pred = train(datafinal,rf)\n",
    "\n",
    "pred.select(\"prediction\", \"label\", \"features\").show()"
   ]
  },
  {
   "cell_type": "markdown",
   "metadata": {},
   "source": [
    "## Pipeline creation "
   ]
  },
  {
   "cell_type": "code",
   "execution_count": null,
   "metadata": {},
   "outputs": [],
   "source": [
    "# dataset \n",
    "\n",
    "#define stage 1 : transform the category columns to numeric\n",
    "stage1 = StringIndexer(inputCol= 'category_1', outputCol= 'category_1_index')\n",
    "\n",
    "# define stage 2 : one hot encode the numeric category_2 column\n",
    "stage2 = OneHotEncoder(inputCols=['category_1_index'], outputCols=['category_2_vec'])\n",
    "\n",
    "# Creating the vector of all predictors\n",
    "stage3 = VectorAssembler( inputCols = featureCols, outputCol = \"features\").transform(dataset)\n",
    "\n",
    "# Setting the target variables -\n",
    "stage4 = datafinal.withColumn( \"label\", datafinal.targetvariable)\n",
    "\n",
    "# define stage 5: logistic regression model                          \n",
    "stage5 = LogisticRegression(featuresCol='features',labelCol='label')\n",
    "\n",
    "# setup the pipeline\n",
    "pipeline = Pipeline(stages=[stage1, stage2, stage3, stage4, stage5 ])\n",
    "\n",
    "# fit the pipeline model and transform the data as defined\n",
    "pipeline_model = pipeline.fit(train)\n",
    "sample_train_pred = pipeline_model.transform(train)\n",
    "\n",
    "# view the transformed data\n",
    "sample_train_pred.show()"
   ]
  },
  {
   "cell_type": "markdown",
   "metadata": {},
   "source": [
    "### -------------------Project ends here------------------------------"
   ]
  }
 ],
 "metadata": {
  "kernelspec": {
   "display_name": "Python 3",
   "language": "python",
   "name": "python3"
  },
  "language_info": {
   "codemirror_mode": {
    "name": "ipython",
    "version": 3
   },
   "file_extension": ".py",
   "mimetype": "text/x-python",
   "name": "python",
   "nbconvert_exporter": "python",
   "pygments_lexer": "ipython3",
   "version": "3.7.6"
  }
 },
 "nbformat": 4,
 "nbformat_minor": 4
}
