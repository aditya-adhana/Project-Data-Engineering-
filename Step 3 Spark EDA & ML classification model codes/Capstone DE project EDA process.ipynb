{
 "cells": [
  {
   "cell_type": "code",
   "execution_count": 1,
   "metadata": {},
   "outputs": [],
   "source": [
    "from pyspark.sql import SparkSession"
   ]
  },
  {
   "cell_type": "code",
   "execution_count": 2,
   "metadata": {},
   "outputs": [
    {
     "data": {
      "text/html": [
       "\n",
       "            <div>\n",
       "                <p><b>SparkSession - hive</b></p>\n",
       "                \n",
       "        <div>\n",
       "            <p><b>SparkContext</b></p>\n",
       "\n",
       "            <p><a href=\"http://ip-10-1-1-204.ap-south-1.compute.internal:43004\">Spark UI</a></p>\n",
       "\n",
       "            <dl>\n",
       "              <dt>Version</dt>\n",
       "                <dd><code>v2.4.0</code></dd>\n",
       "              <dt>Master</dt>\n",
       "                <dd><code>local</code></dd>\n",
       "              <dt>AppName</dt>\n",
       "                <dd><code>Capstone Project</code></dd>\n",
       "            </dl>\n",
       "        </div>\n",
       "        \n",
       "            </div>\n",
       "        "
      ],
      "text/plain": [
       "<pyspark.sql.session.SparkSession at 0x7fa9b156a150>"
      ]
     },
     "execution_count": 2,
     "metadata": {},
     "output_type": "execute_result"
    }
   ],
   "source": [
    "\n",
    "spark=(SparkSession.builder.master(\"local\").appName(\"Capstone Project\")\\\n",
    "      .config(\"hive.metastore.uris\",\"thrift://ip-10-1-2-24.ap-south-1.compute.internal:9083\")\\\n",
    "      .enableHiveSupport().getOrCreate())\n",
    "spark"
   ]
  },
  {
   "cell_type": "markdown",
   "metadata": {},
   "source": [
    "# 1. EDA "
   ]
  },
  {
   "cell_type": "code",
   "execution_count": 5,
   "metadata": {},
   "outputs": [],
   "source": [
    "# importing all tables \n",
    "employees=spark.sql(\"select * from project_de.employees\")\n",
    "titles=spark.sql(\"select * from project_de.titles\")\n",
    "salaries=spark.sql(\"select * from project_de.salaries\")\n",
    "departments=spark.sql(\"select * from project_de.department\")\n",
    "department_manager=spark.sql(\"select * from project_de.department_manager\")\n",
    "department_employees=spark.sql(\"select * from project_de.department_employees\")"
   ]
  },
  {
   "cell_type": "code",
   "execution_count": 22,
   "metadata": {},
   "outputs": [],
   "source": [
    "tab = [employees,\n",
    "titles,\n",
    "salaries,\n",
    "departments,\n",
    "department_manager,\n",
    "department_employees,]"
   ]
  },
  {
   "cell_type": "code",
   "execution_count": 26,
   "metadata": {},
   "outputs": [
    {
     "name": "stdout",
     "output_type": "stream",
     "text": [
      "<class 'pyspark.sql.dataframe.DataFrame'>\n",
      "<class 'pyspark.sql.dataframe.DataFrame'>\n",
      "<class 'pyspark.sql.dataframe.DataFrame'>\n",
      "<class 'pyspark.sql.dataframe.DataFrame'>\n",
      "<class 'pyspark.sql.dataframe.DataFrame'>\n",
      "<class 'pyspark.sql.dataframe.DataFrame'>\n"
     ]
    }
   ],
   "source": [
    "for i in tab:\n",
    "    print(type(i))"
   ]
  },
  {
   "cell_type": "code",
   "execution_count": 27,
   "metadata": {},
   "outputs": [
    {
     "name": "stdout",
     "output_type": "stream",
     "text": [
      "root\n",
      " |-- emp_no: integer (nullable = true)\n",
      " |-- emp_titles_id: string (nullable = true)\n",
      " |-- birth_date: string (nullable = true)\n",
      " |-- first_name: string (nullable = true)\n",
      " |-- last_name: string (nullable = true)\n",
      " |-- sex: string (nullable = true)\n",
      " |-- hire_date: string (nullable = true)\n",
      " |-- no_of_projects: integer (nullable = true)\n",
      " |-- last_performance_rating: string (nullable = true)\n",
      " |-- left_company: boolean (nullable = true)\n",
      " |-- last_date: string (nullable = true)\n",
      "\n",
      "None\n",
      "root\n",
      " |-- title_id: string (nullable = true)\n",
      " |-- title: string (nullable = true)\n",
      "\n",
      "None\n",
      "root\n",
      " |-- emp_no: integer (nullable = true)\n",
      " |-- salary: integer (nullable = true)\n",
      "\n",
      "None\n",
      "root\n",
      " |-- dept_no: string (nullable = true)\n",
      " |-- dept_name: string (nullable = true)\n",
      "\n",
      "None\n",
      "root\n",
      " |-- dept_no: string (nullable = true)\n",
      " |-- emp_no: integer (nullable = true)\n",
      "\n",
      "None\n",
      "root\n",
      " |-- emp_no: integer (nullable = true)\n",
      " |-- dept_no: string (nullable = true)\n",
      "\n",
      "None\n"
     ]
    }
   ],
   "source": [
    "for i in tab:\n",
    "    print(i.printSchema())"
   ]
  },
  {
   "cell_type": "code",
   "execution_count": 46,
   "metadata": {},
   "outputs": [
    {
     "name": "stdout",
     "output_type": "stream",
     "text": [
      "total records -  300024\n",
      "total records -  7\n",
      "total records -  300024\n",
      "total records -  9\n",
      "total records -  24\n",
      "total records -  331603\n"
     ]
    }
   ],
   "source": [
    "for i in tab:\n",
    "    print('total records - ', i.count())"
   ]
  },
  {
   "cell_type": "code",
   "execution_count": 54,
   "metadata": {},
   "outputs": [
    {
     "name": "stdout",
     "output_type": "stream",
     "text": [
      "+-------+------------------+-------------+----------+----------+---------+------+---------+------------------+-----------------------+---------+\n",
      "|summary|            emp_no|emp_titles_id|birth_date|first_name|last_name|   sex|hire_date|    no_of_projects|last_performance_rating|last_date|\n",
      "+-------+------------------+-------------+----------+----------+---------+------+---------+------------------+-----------------------+---------+\n",
      "|  count|            300024|       300024|    300024|    300024|   300024|300024|   300024|            300024|                 300024|   300024|\n",
      "|   mean|253321.76339226196|         null|      null|      null|     null|  null|     null| 5.504826280564221|                   null|     null|\n",
      "| stddev|161828.23554037872|         null|      null|      null|     null|  null|     null|2.8720743310330183|                   null|     null|\n",
      "|    min|             10001|        e0001|  1/1/1953|     Aamer|   Aamodt|     F| 1/1/1985|                 1|                      A|        \n",
      "|    max|            499999|        s0002|  9/9/1964|    Zvonko|  dAstous|     M| 9/9/1999|                10|                      S|9/9/2008\n",
      "+-------+------------------+-------------+----------+----------+---------+------+---------+------------------+-----------------------+---------+\n",
      "\n",
      "---------------------------------------------------------------------------------------\n",
      "+-------+--------+------------------+\n",
      "|summary|title_id|             title|\n",
      "+-------+--------+------------------+\n",
      "|  count|       7|                 7|\n",
      "|   mean|    null|              null|\n",
      "| stddev|    null|              null|\n",
      "|    min|   e0001|Assistant Engineer|\n",
      "|    max|   s0002|  Technique Leader|\n",
      "+-------+--------+------------------+\n",
      "\n",
      "---------------------------------------------------------------------------------------\n",
      "+-------+------------------+------------------+\n",
      "|summary|            emp_no|            salary|\n",
      "+-------+------------------+------------------+\n",
      "|  count|            300024|            300024|\n",
      "|   mean|253321.76339226196|52970.732451403885|\n",
      "| stddev|161828.23554037872|14301.478490873655|\n",
      "|    min|             10001|             40000|\n",
      "|    max|            499999|            129492|\n",
      "+-------+------------------+------------------+\n",
      "\n",
      "---------------------------------------------------------------------------------------\n",
      "+-------+-------+----------------+\n",
      "|summary|dept_no|       dept_name|\n",
      "+-------+-------+----------------+\n",
      "|  count|      9|               9|\n",
      "|   mean|   null|            null|\n",
      "| stddev|   null|            null|\n",
      "|    min|   d001|Customer Service|\n",
      "|    max|   d009|     development|\n",
      "+-------+-------+----------------+\n",
      "\n",
      "---------------------------------------------------------------------------------------\n",
      "+-------+-------+------------------+\n",
      "|summary|dept_no|            emp_no|\n",
      "+-------+-------+------------------+\n",
      "|  count|     24|                24|\n",
      "|   mean|   null|110780.83333333333|\n",
      "| stddev|   null| 627.9587127570818|\n",
      "|    min|   d001|            110022|\n",
      "|    max|   d009|            111939|\n",
      "+-------+-------+------------------+\n",
      "\n",
      "---------------------------------------------------------------------------------------\n",
      "+-------+------------------+-------+\n",
      "|summary|            emp_no|dept_no|\n",
      "+-------+------------------+-------+\n",
      "|  count|            331603| 331603|\n",
      "|   mean|253332.60502468314|   null|\n",
      "| stddev|161831.91944548965|   null|\n",
      "|    min|             10001|   d001|\n",
      "|    max|            499999|   d009|\n",
      "+-------+------------------+-------+\n",
      "\n",
      "---------------------------------------------------------------------------------------\n"
     ]
    }
   ],
   "source": [
    "for i in tab:\n",
    "    i.describe().show()\n",
    "    print('---------------------------------------------------------------------------------------')"
   ]
  },
  {
   "cell_type": "code",
   "execution_count": 4,
   "metadata": {},
   "outputs": [
    {
     "name": "stdout",
     "output_type": "stream",
     "text": [
      "+------+-----------+----------+---+------+\n",
      "|emp_no|  last_name|first_name|sex|salary|\n",
      "+------+-----------+----------+---+------+\n",
      "| 10001|    Facello|    Georgi|  M| 60117|\n",
      "| 10002|     Simmel|   Bezalel|  F| 65828|\n",
      "| 10003|    Bamford|     Parto|  M| 40006|\n",
      "| 10004|    Koblick| Chirstian|  M| 40054|\n",
      "| 10005|   Maliniak|   Kyoichi|  M| 78228|\n",
      "| 10006|    Preusig|    Anneke|  F| 40000|\n",
      "| 10007|  Zielinski|   Tzvetan|  F| 56724|\n",
      "| 10008|   Kalloufi|    Saniya|  M| 46671|\n",
      "| 10009|       Peac|    Sumant|  F| 60929|\n",
      "| 10010|   Piveteau| Duangkaew|  F| 72488|\n",
      "| 10011|      Sluis|      Mary|  F| 42365|\n",
      "| 10012|  Bridgland|  Patricio|  M| 40000|\n",
      "| 10013|     Terkki| Eberhardt|  M| 40000|\n",
      "| 10014|      Genin|     Berni|  M| 46168|\n",
      "| 10015|  Nooteboom|  Guoxiang|  M| 40000|\n",
      "| 10016|Cappelletti|  Kazuhito|  M| 70889|\n",
      "| 10017|  Bouloucos| Cristinel|  F| 71380|\n",
      "| 10018|       Peha|  Kazuhide|  F| 55881|\n",
      "| 10019|    Haddadi|   Lillian|  M| 44276|\n",
      "| 10020|    Warwick|    Mayuko|  M| 40000|\n",
      "+------+-----------+----------+---+------+\n",
      "only showing top 20 rows\n",
      "\n"
     ]
    }
   ],
   "source": [
    "#1  list showing employee number, last name, first name, sex, and salary for each employee\n",
    "spark.sql('select e.emp_no, last_name, first_name, sex, salary from employees e inner join salaries s on e.emp_no=s.emp_no').show()"
   ]
  },
  {
   "cell_type": "code",
   "execution_count": 7,
   "metadata": {},
   "outputs": [
    {
     "name": "stdout",
     "output_type": "stream",
     "text": [
      "+----------+------------+----------+\n",
      "|first_name|   last_name| hire_date|\n",
      "+----------+------------+----------+\n",
      "|    Georgi|     Facello| 6/26/1986|\n",
      "|     Parto|     Bamford| 8/28/1986|\n",
      "| Chirstian|     Koblick| 12/1/1986|\n",
      "|    Sanjiv|    Zschoche|  2/4/1986|\n",
      "|      Kwee|    Schusler| 2/26/1986|\n",
      "|   Kshitij|        Gils| 3/27/1986|\n",
      "|  Zhongwei|       Rosen|10/30/1986|\n",
      "|   Xinglin|     Eugenio|  9/8/1986|\n",
      "| Sudharsan|Flasterstein| 8/12/1986|\n",
      "|    Kendra|     Hofting| 3/14/1986|\n",
      "|    Hilari|      Morton| 7/15/1986|\n",
      "|     Akemi|       Birch| 12/2/1986|\n",
      "|    Lunjin|      Giveon| 10/2/1986|\n",
      "|    Xuejia|      Ullian| 8/22/1986|\n",
      "|   Chikara|    Rissland| 1/23/1986|\n",
      "|  Domenick|    Peltason| 3/14/1986|\n",
      "|    Zissis|    Pintelas| 2/11/1986|\n",
      "|     Perry|   Shimshoni| 9/18/1986|\n",
      "|  Kazuhito| Encarnacion| 8/21/1986|\n",
      "|   Xiadong|       Perry| 11/5/1986|\n",
      "+----------+------------+----------+\n",
      "only showing top 20 rows\n",
      "\n"
     ]
    }
   ],
   "source": [
    "#2. A list showing first name, last name, and hire date for employees who were hired in 1986.\n",
    "\n",
    "spark.sql('select first_name, last_name, hire_date from employees \\\n",
    "where cast(substring_index(hire_date,\"/\",-1) as int ) = 1986').show()"
   ]
  },
  {
   "cell_type": "code",
   "execution_count": 9,
   "metadata": {},
   "outputs": [
    {
     "name": "stdout",
     "output_type": "stream",
     "text": [
      "+-------+--------------------+------+------------+-----------+\n",
      "|dept_no|           dept_name|emp_no|   last_name| first_name|\n",
      "+-------+--------------------+------+------------+-----------+\n",
      "|   d001|         \"Marketing\"|110022|  Markovitch|  Margareta|\n",
      "|   d001|         \"Marketing\"|110039|    Minakawa|   Vishwani|\n",
      "|   d002|           \"Finance\"|110085|       Alpin|       Ebru|\n",
      "|   d002|           \"Finance\"|110114|  Legleitner|      Isamu|\n",
      "|   d003|   \"Human Resources\"|110183|Ossenbruggen|    Shirish|\n",
      "|   d003|   \"Human Resources\"|110228|     Sigstam|    Karsten|\n",
      "|   d004|        \"Production\"|110303|     Wegerle|  Krassimir|\n",
      "|   d004|        \"Production\"|110344|       Cools|     Rosine|\n",
      "|   d004|        \"Production\"|110386|      Kieras|       Shem|\n",
      "|   d004|        \"Production\"|110420|    Ghazalie|      Oscar|\n",
      "|   d005|       \"development\"|110511|    Hagimont|   DeForest|\n",
      "|   d005|       \"development\"|110567|    DasSarma|       Leon|\n",
      "|   d006|\"Quality Management\"|110725|     Onuegbe|  Peternela|\n",
      "|   d006|\"Quality Management\"|110765|     Hofmeyr|     Rutger|\n",
      "|   d006|\"Quality Management\"|110800|     Quadeer|     Sanjoy|\n",
      "|   d006|\"Quality Management\"|110854|       Pesch|       Dung|\n",
      "|   d007|             \"Sales\"|111035|   Kaelbling|Przemyslawa|\n",
      "|   d007|             \"Sales\"|111133|       Zhang|      Hauke|\n",
      "|   d008|          \"Research\"|111400|     Staelin|       Arie|\n",
      "|   d008|          \"Research\"|111534|      Kambil|     Hilary|\n",
      "+-------+--------------------+------+------------+-----------+\n",
      "only showing top 20 rows\n",
      "\n"
     ]
    }
   ],
   "source": [
    "#3. A list showing the manager of each department with the following information: department number, department name, \n",
    "#  the manager's employee number, last name, first name.\n",
    "\n",
    "spark.sql('select d.dept_no, d.dept_name, dm.emp_no, last_name, first_name from departments d \\\n",
    "inner join project_de.department_manager dm on d.dept_no = dm.dept_no \\\n",
    "inner join project_de.employees e on e.emp_no = dm.emp_no').show()"
   ]
  },
  {
   "cell_type": "code",
   "execution_count": 11,
   "metadata": {},
   "outputs": [
    {
     "name": "stdout",
     "output_type": "stream",
     "text": [
      "+------+-----------+----------+--------------------+\n",
      "|emp_no|  last_name|first_name|           dept_name|\n",
      "+------+-----------+----------+--------------------+\n",
      "| 10001|    Facello|    Georgi|       \"development\"|\n",
      "| 10002|     Simmel|   Bezalel|             \"Sales\"|\n",
      "| 10003|    Bamford|     Parto|        \"Production\"|\n",
      "| 10004|    Koblick| Chirstian|        \"Production\"|\n",
      "| 10005|   Maliniak|   Kyoichi|   \"Human Resources\"|\n",
      "| 10006|    Preusig|    Anneke|       \"development\"|\n",
      "| 10007|  Zielinski|   Tzvetan|          \"Research\"|\n",
      "| 10008|   Kalloufi|    Saniya|       \"development\"|\n",
      "| 10009|       Peac|    Sumant|\"Quality Management\"|\n",
      "| 10010|   Piveteau| Duangkaew|\"Quality Management\"|\n",
      "| 10010|   Piveteau| Duangkaew|        \"Production\"|\n",
      "| 10011|      Sluis|      Mary|  \"Customer Service\"|\n",
      "| 10012|  Bridgland|  Patricio|       \"development\"|\n",
      "| 10013|     Terkki| Eberhardt|   \"Human Resources\"|\n",
      "| 10014|      Genin|     Berni|       \"development\"|\n",
      "| 10015|  Nooteboom|  Guoxiang|          \"Research\"|\n",
      "| 10016|Cappelletti|  Kazuhito|             \"Sales\"|\n",
      "| 10017|  Bouloucos| Cristinel|         \"Marketing\"|\n",
      "| 10018|       Peha|  Kazuhide|       \"development\"|\n",
      "| 10018|       Peha|  Kazuhide|        \"Production\"|\n",
      "+------+-----------+----------+--------------------+\n",
      "only showing top 20 rows\n",
      "\n"
     ]
    }
   ],
   "source": [
    "#4. A list showing the department of each employee with the following information: employee number, last name, first \n",
    "#   name, and department name. \n",
    "\n",
    "spark.sql('select e.emp_no, last_name, first_name, d.dept_name from employees e \\\n",
    "inner join project_de.department_employees de on e.emp_no=de.emp_no \\\n",
    "inner join project_de.departments d on de.dept_no=d.dept_no').show()"
   ]
  },
  {
   "cell_type": "code",
   "execution_count": 16,
   "metadata": {},
   "outputs": [
    {
     "name": "stdout",
     "output_type": "stream",
     "text": [
      "+----------+-------------+---+\n",
      "|first_name|    last_name|sex|\n",
      "+----------+-------------+---+\n",
      "|  Hercules|   Benzmuller|  M|\n",
      "|  Hercules|      Brendel|  F|\n",
      "|  Hercules|   Baranowski|  M|\n",
      "|  Hercules|     Barreiro|  M|\n",
      "|  Hercules|         Baer|  M|\n",
      "|  Hercules|Bernardinello|  F|\n",
      "|  Hercules|      Basagni|  M|\n",
      "|  Hercules|        Biran|  F|\n",
      "|  Hercules|    Bernatsky|  M|\n",
      "|  Hercules|         Bail|  F|\n",
      "|  Hercules|        Birge|  F|\n",
      "|  Hercules|      Bisiani|  F|\n",
      "|  Hercules|       Bodoff|  M|\n",
      "|  Hercules|        Biron|  F|\n",
      "|  Hercules|      Buchter|  M|\n",
      "|  Hercules|         Bain|  F|\n",
      "|  Hercules|         Bahr|  M|\n",
      "|  Hercules|         Baak|  M|\n",
      "|  Hercules|     Benantar|  F|\n",
      "|  Hercules|      Berstel|  F|\n",
      "+----------+-------------+---+\n",
      "\n"
     ]
    }
   ],
   "source": [
    "#5.A list showing first name, last name, and sex for employees whose first name is \"Hercules\" and last names begin with \"B.“\n",
    "\n",
    "spark.sql('select first_name, last_name, sex from employees where first_name=\"Hercules\" and last_name like \"B%\"').show()"
   ]
  },
  {
   "cell_type": "code",
   "execution_count": 18,
   "metadata": {},
   "outputs": [
    {
     "name": "stdout",
     "output_type": "stream",
     "text": [
      "+------+------------+----------+---------+\n",
      "|emp_no|   last_name|first_name|dept_name|\n",
      "+------+------------+----------+---------+\n",
      "| 10002|      Simmel|   Bezalel|    Sales|\n",
      "| 10016| Cappelletti|  Kazuhito|    Sales|\n",
      "| 10034|        Swan|     Bader|    Sales|\n",
      "| 10041|      Lenart|       Uri|    Sales|\n",
      "| 10050|      Dredge|   Yinghua|    Sales|\n",
      "| 10053|    Zschoche|    Sanjiv|    Sales|\n",
      "| 10060| Billingsley|  Breannda|    Sales|\n",
      "| 10061|      Herber|       Tse|    Sales|\n",
      "| 10068|     Brattka|  Charlene|    Sales|\n",
      "| 10087|     Eugenio|   Xinglin|    Sales|\n",
      "| 10088|    Syrzycki|  Jungsoon|    Sales|\n",
      "| 10089|Flasterstein| Sudharsan|    Sales|\n",
      "| 10093|     Desikan|   Sailaja|    Sales|\n",
      "| 10095|      Morton|    Hilari|    Sales|\n",
      "| 10099|     Sullins|    Valter|    Sales|\n",
      "| 10101|      Heyers|     Perla|    Sales|\n",
      "| 10107|        Baca|      Dung|    Sales|\n",
      "| 10125|     Hiltgen|     Syozo|    Sales|\n",
      "| 10136|    Pintelas|    Zissis|    Sales|\n",
      "| 10148|       Azumi|    Douadi|    Sales|\n",
      "+------+------------+----------+---------+\n",
      "only showing top 20 rows\n",
      "\n"
     ]
    }
   ],
   "source": [
    "#6. A list showing all employees in the Sales department, including their employee number, last name, first name, and \n",
    "#  department name.\n",
    "\n",
    "spark.sql('select e.emp_no, last_name, first_name, d.dept_name from employees e \\\n",
    "inner join project_de.department_employees de on e.emp_no=de.emp_no \\\n",
    "inner join project_de.department d on de.dept_no=d.dept_no \\\n",
    "where d.dept_name =\"Sales\"').show()"
   ]
  },
  {
   "cell_type": "code",
   "execution_count": 19,
   "metadata": {},
   "outputs": [
    {
     "name": "stdout",
     "output_type": "stream",
     "text": [
      "+------+-----------+----------+-----------+\n",
      "|emp_no|  last_name|first_name|  dept_name|\n",
      "+------+-----------+----------+-----------+\n",
      "| 10001|    Facello|    Georgi|development|\n",
      "| 10002|     Simmel|   Bezalel|      Sales|\n",
      "| 10006|    Preusig|    Anneke|development|\n",
      "| 10008|   Kalloufi|    Saniya|development|\n",
      "| 10012|  Bridgland|  Patricio|development|\n",
      "| 10014|      Genin|     Berni|development|\n",
      "| 10016|Cappelletti|  Kazuhito|      Sales|\n",
      "| 10018|       Peha|  Kazuhide|development|\n",
      "| 10021|       Erde|     Ramzi|development|\n",
      "| 10022|     Famili|    Shahaf|development|\n",
      "| 10023| Montemayor|     Bojan|development|\n",
      "| 10025|     Heyers| Prasadram|development|\n",
      "| 10027|    Reistad|    Divier|development|\n",
      "| 10028|   Tempesti|  Domenick|development|\n",
      "| 10031|     Joslin|   Karsten|development|\n",
      "| 10034|       Swan|     Bader|      Sales|\n",
      "| 10037|   Makrucki|   Pradeep|development|\n",
      "| 10040|    Meriste|     Weiyi|development|\n",
      "| 10041|     Lenart|       Uri|      Sales|\n",
      "| 10043|    Tzvieli|    Yishay|development|\n",
      "+------+-----------+----------+-----------+\n",
      "only showing top 20 rows\n",
      "\n"
     ]
    }
   ],
   "source": [
    "#7.A list showing all employees in the Sales and Development departments, including their employee number, last name, \n",
    "#  first name, and department name.\n",
    " \n",
    "spark.sql('select e.emp_no, last_name, first_name, d.dept_name from employees e \\\n",
    "inner join project_de.department_employees de on e.emp_no=de.emp_no \\\n",
    "inner join project_de.department d on de.dept_no=d.dept_no \\\n",
    "where d.dept_name IN (\"Sales\", \"development\")').show()"
   ]
  },
  {
   "cell_type": "code",
   "execution_count": 20,
   "metadata": {},
   "outputs": [
    {
     "name": "stdout",
     "output_type": "stream",
     "text": [
      "+-----------+---------------------------+\n",
      "|  last_name|count_of_employee_last_name|\n",
      "+-----------+---------------------------+\n",
      "|       Baba|                        226|\n",
      "|     Gelosh|                        223|\n",
      "|      Coorg|                        223|\n",
      "|    Sudbeck|                        222|\n",
      "|     Farris|                        222|\n",
      "|     Adachi|                        221|\n",
      "|     Osgood|                        220|\n",
      "|     Neiman|                        218|\n",
      "|    Mandell|                        218|\n",
      "|     Masada|                        218|\n",
      "|Boudaillier|                        217|\n",
      "|    Wendorf|                        217|\n",
      "|     Mahnke|                        216|\n",
      "|    Solares|                        216|\n",
      "|     Pettis|                        216|\n",
      "|   Cummings|                        216|\n",
      "|     Emmart|                        215|\n",
      "|    Kulisch|                        215|\n",
      "|   Birjandi|                        215|\n",
      "| Maksimenko|                        215|\n",
      "+-----------+---------------------------+\n",
      "only showing top 20 rows\n",
      "\n"
     ]
    }
   ],
   "source": [
    "#8. A list showing the frequency count of employee last names, in descending order. ( i.e., how many employees share each last name\n",
    "\n",
    "spark.sql('select last_name, count(*) as count_of_employee_last_name from employees \\\n",
    "group by last_name \\\n",
    "order by count_of_employee_last_name desc').show()"
   ]
  },
  {
   "cell_type": "code",
   "execution_count": 25,
   "metadata": {},
   "outputs": [
    {
     "name": "stdout",
     "output_type": "stream",
     "text": [
      "+------+---------------+\n",
      "|salary|frequency_count|\n",
      "+------+---------------+\n",
      "| 40137|         108834|\n",
      "| 44331|          26476|\n",
      "| 48695|          29510|\n",
      "| 53440|          30087|\n",
      "| 58232|          24609|\n",
      "| 62954|          21554|\n",
      "| 68499|          22627|\n",
      "| 74140|          12348|\n",
      "| 78817|           8624|\n",
      "| 83367|           6011|\n",
      "| 87753|           3774|\n",
      "| 91865|           2417|\n",
      "| 95952|           1506|\n",
      "|100321|            817|\n",
      "|104612|            432|\n",
      "|108890|            234|\n",
      "|113916|            116|\n",
      "|119213|             38|\n",
      "|124789|              9|\n",
      "|129492|              1|\n",
      "+------+---------------+\n",
      "\n"
     ]
    }
   ],
   "source": [
    "#9. Histogram to show the salary distribution among the employees\n",
    "\n",
    "salary_histogram=spark.sql('select cast(hist.x as int) as salary, cast(hist.y as bigint) as frequency_count from \\\n",
    "(select histogram_numeric(salary, 20) as A_hist \\\n",
    "from salaries) t \\\n",
    "lateral view explode(A_hist) exploded_table as hist')\n",
    "salary_histogram.show()"
   ]
  },
  {
   "cell_type": "code",
   "execution_count": 43,
   "metadata": {},
   "outputs": [],
   "source": [
    "import pandas as pd\n",
    "import seaborn as sns\n",
    "import matplotlib.pyplot as plt\n",
    "%matplotlib inline"
   ]
  },
  {
   "cell_type": "code",
   "execution_count": 42,
   "metadata": {},
   "outputs": [
    {
     "data": {
      "text/plain": [
       "<matplotlib.axes._subplots.AxesSubplot at 0x7f9f3a717050>"
      ]
     },
     "execution_count": 42,
     "metadata": {},
     "output_type": "execute_result"
    },
    {
     "data": {
      "image/png": "[encoded data removed]",
      "text/plain": [
       "<Figure size 432x288 with 1 Axes>"
      ]
     },
     "metadata": {
      "needs_background": "light"
     },
     "output_type": "display_data"
    }
   ],
   "source": [
    "salary_histogram.toPandas().plot(x='salary', y='frequency_count', kind = 'hist')"
   ]
  },
  {
   "cell_type": "code",
   "execution_count": 85,
   "metadata": {},
   "outputs": [
    {
     "data": {
      "text/plain": [
       "<matplotlib.axes._subplots.AxesSubplot at 0x7f9f3a2659d0>"
      ]
     },
     "execution_count": 85,
     "metadata": {},
     "output_type": "execute_result"
    },
    {
     "data": {
      "image/png": "[encoded data removed]",
      "text/plain": [
       "<Figure size 432x288 with 1 Axes>"
      ]
     },
     "metadata": {
      "needs_background": "light"
     },
     "output_type": "display_data"
    }
   ],
   "source": [
    "sns.distplot(salary_histogram.toPandas(), bins = 10, kde=True)"
   ]
  },
  {
   "cell_type": "code",
   "execution_count": 39,
   "metadata": {},
   "outputs": [
    {
     "name": "stdout",
     "output_type": "stream",
     "text": [
      "+------------------+------------------+\n",
      "|             title|        avg_salary|\n",
      "+------------------+------------------+\n",
      "|             Staff| 58465.38285033152|\n",
      "|Assistant Engineer| 48564.43444730077|\n",
      "|      Senior Staff| 58550.17270435993|\n",
      "|   Senior Engineer| 48506.79987109579|\n",
      "|          Engineer|48535.336511426336|\n",
      "|           Manager|51531.041666666664|\n",
      "|  Technique Leader| 48582.89609189332|\n",
      "+------------------+------------------+\n",
      "\n"
     ]
    }
   ],
   "source": [
    "#10. Bar graph to show the Average salary per title (designation)\n",
    "\n",
    "avg_bar=spark.sql('select t.title, avg(s.salary) as avg_salary from titles t \\\n",
    "inner join employees e on t.title_id = e.emp_titles_id \\\n",
    "inner join salaries s on e.emp_no = s.emp_no \\\n",
    "group by t.title')\n",
    "avg_bar.show()"
   ]
  },
  {
   "cell_type": "code",
   "execution_count": 52,
   "metadata": {},
   "outputs": [
    {
     "data": {
      "text/plain": [
       "<matplotlib.axes._subplots.AxesSubplot at 0x7f9f3aecfc50>"
      ]
     },
     "execution_count": 52,
     "metadata": {},
     "output_type": "execute_result"
    },
    {
     "data": {
      "image/png": "[encoded data removed]",
      "text/plain": [
       "<Figure size 432x288 with 1 Axes>"
      ]
     },
     "metadata": {
      "needs_background": "light"
     },
     "output_type": "display_data"
    }
   ],
   "source": [
    "avg_bar.toPandas().plot(x='title', y='avg_salary', kind ='bar')"
   ]
  },
  {
   "cell_type": "code",
   "execution_count": 97,
   "metadata": {},
   "outputs": [
    {
     "data": {
      "image/png": "[encoded data removed]",
      "text/plain": [
       "<Figure size 864x360 with 1 Axes>"
      ]
     },
     "metadata": {
      "needs_background": "light"
     },
     "output_type": "display_data"
    }
   ],
   "source": [
    "plt.figure(figsize=(12,5))\n",
    "sns.barplot(data=avg_bar.toPandas(), x='title', y='avg_salary', saturation=1)\n",
    "plt.show()"
   ]
  },
  {
   "cell_type": "code",
   "execution_count": null,
   "metadata": {},
   "outputs": [],
   "source": [
    "#11. . Calculate employee tenure & show the tenure distribution among the employees\n",
    "\n",
    "spark.sql('').show()"
   ]
  },
  {
   "cell_type": "code",
   "execution_count": 55,
   "metadata": {},
   "outputs": [
    {
     "name": "stdout",
     "output_type": "stream",
     "text": [
      "+------------+----------------------+\n",
      "|left_company|employees_left_company|\n",
      "+------------+----------------------+\n",
      "|        true|                 29867|\n",
      "|       false|                270157|\n",
      "+------------+----------------------+\n",
      "\n"
     ]
    }
   ],
   "source": [
    "#12.a) how many employee have left the company \n",
    "\n",
    "spark.sql('select left_company, count(*) as employees_left_company from project_de.employees group by left_company').show()"
   ]
  },
  {
   "cell_type": "code",
   "execution_count": 56,
   "metadata": {},
   "outputs": [
    {
     "name": "stdout",
     "output_type": "stream",
     "text": [
      "+------------------+------------------------+\n",
      "|             title|total_employee_per_title|\n",
      "+------------------+------------------------+\n",
      "|             Staff|                  107384|\n",
      "|Assistant Engineer|                    5835|\n",
      "|      Senior Staff|                   26583|\n",
      "|   Senior Engineer|                   97747|\n",
      "|          Engineer|                   47303|\n",
      "|           Manager|                      24|\n",
      "|  Technique Leader|                   15148|\n",
      "+------------------+------------------------+\n",
      "\n"
     ]
    }
   ],
   "source": [
    "#12.b) how many total employees per title in the company \n",
    "\n",
    "spark.sql('select t.title, count(e.emp_no) as total_employee_per_title from titles t \\\n",
    "inner join employees e on t.title_id = e.emp_titles_id \\\n",
    "group by t.title').show()"
   ]
  },
  {
   "cell_type": "code",
   "execution_count": 104,
   "metadata": {},
   "outputs": [
    {
     "name": "stdout",
     "output_type": "stream",
     "text": [
      "+------------------+--------------------------------+\n",
      "|         dept_name|count_of_employee_per_department|\n",
      "+------------------+--------------------------------+\n",
      "|       development|                           85707|\n",
      "|        Production|                           73485|\n",
      "|             Sales|                           52245|\n",
      "|  Customer Service|                           23580|\n",
      "|          Research|                           21126|\n",
      "|         Marketing|                           20211|\n",
      "|Quality Management|                           20117|\n",
      "|   Human Resources|                           17786|\n",
      "|           Finance|                           17346|\n",
      "+------------------+--------------------------------+\n",
      "\n"
     ]
    }
   ],
   "source": [
    "#12.c) Total no employees per department in the company \n",
    "\n",
    "spark.sql('select d.dept_name, count(e.emp_no) as count_of_employee_per_department from employees e \\\n",
    "inner join project_de.department_employees de on e.emp_no=de.emp_no \\\n",
    "inner join project_de.department d on de.dept_no=d.dept_no \\\n",
    "group by dept_name order by count_of_employee_per_department desc').show()"
   ]
  },
  {
   "cell_type": "code",
   "execution_count": 114,
   "metadata": {},
   "outputs": [
    {
     "name": "stdout",
     "output_type": "stream",
     "text": [
      "+------------------+------------+--------------------------------+\n",
      "|         dept_name|left_company|count_of_employee_per_department|\n",
      "+------------------+------------+--------------------------------+\n",
      "|  Customer Service|       false|                           21166|\n",
      "|  Customer Service|        true|                            2414|\n",
      "|           Finance|       false|                           15699|\n",
      "|           Finance|        true|                            1647|\n",
      "|   Human Resources|       false|                           15989|\n",
      "|   Human Resources|        true|                            1797|\n",
      "|         Marketing|       false|                           18270|\n",
      "|         Marketing|        true|                            1941|\n",
      "|        Production|       false|                           66096|\n",
      "|        Production|        true|                            7389|\n",
      "|Quality Management|       false|                           18099|\n",
      "|Quality Management|        true|                            2018|\n",
      "|          Research|       false|                           19028|\n",
      "|          Research|        true|                            2098|\n",
      "|             Sales|       false|                           47036|\n",
      "|             Sales|        true|                            5209|\n",
      "|       development|       false|                           77199|\n",
      "|       development|        true|                            8508|\n",
      "+------------------+------------+--------------------------------+\n",
      "\n"
     ]
    }
   ],
   "source": [
    "# 12 c i) with left_company\n",
    "spark.sql('select d.dept_name,left_company, count(e.emp_no) as count_of_employee_per_department from project_de.employees e \\\n",
    "inner join project_de.department_employees de on e.emp_no=de.emp_no \\\n",
    "inner join project_de.department d on de.dept_no=d.dept_no \\\n",
    "group by dept_name, left_company order by dept_name, left_company').show()"
   ]
  },
  {
   "cell_type": "code",
   "execution_count": 103,
   "metadata": {},
   "outputs": [
    {
     "name": "stdout",
     "output_type": "stream",
     "text": [
      "+------------------+--------------------------+\n",
      "|         dept_name|total_no_of_employees_left|\n",
      "+------------------+--------------------------+\n",
      "|       development|                      8508|\n",
      "|        Production|                      7389|\n",
      "|             Sales|                      5209|\n",
      "|  Customer Service|                      2414|\n",
      "|          Research|                      2098|\n",
      "|Quality Management|                      2018|\n",
      "|         Marketing|                      1941|\n",
      "|   Human Resources|                      1797|\n",
      "|           Finance|                      1647|\n",
      "+------------------+--------------------------+\n",
      "\n"
     ]
    }
   ],
   "source": [
    "#12.d) top 3 department where employees are leaving the company \n",
    "\n",
    "spark.sql('select d.dept_name, count(e.emp_no) as total_no_of_employees_left from project_de.employees e \\\n",
    "inner join project_de.department_employees de on e.emp_no=de.emp_no \\\n",
    "inner join project_de.department d on de.dept_no=d.dept_no \\\n",
    "where left_company = \"true\" group by dept_name order by total_no_of_employees_left desc').show()"
   ]
  },
  {
   "cell_type": "code",
   "execution_count": 71,
   "metadata": {},
   "outputs": [
    {
     "name": "stdout",
     "output_type": "stream",
     "text": [
      "+-----------+------+\n",
      "|Salary_bins|  freq|\n",
      "+-----------+------+\n",
      "|    80 -90k| 11845|\n",
      "|    60 -70k| 41413|\n",
      "|      100k+|  1288|\n",
      "|   90 -100k|  4284|\n",
      "|    70 -80k| 24814|\n",
      "|    50 -60k| 57915|\n",
      "|     40-50k|158465|\n",
      "+-----------+------+\n",
      "\n"
     ]
    }
   ],
   "source": [
    "#12. e) \n",
    "salary_dist = spark.sql('select Salary_bins , count(emp_no) freq from project_de.salary_dist group by Salary_bins')\n",
    "salary_dist.show()"
   ]
  },
  {
   "cell_type": "code",
   "execution_count": 96,
   "metadata": {},
   "outputs": [
    {
     "data": {
      "image/png": "[encoded data removed]",
      "text/plain": [
       "<Figure size 720x360 with 1 Axes>"
      ]
     },
     "metadata": {
      "needs_background": "light"
     },
     "output_type": "display_data"
    }
   ],
   "source": [
    "plt.figure(figsize=(10,5))\n",
    "sns.barplot(data=salary_dist.toPandas(), x='Salary_bins', y='freq', saturation=1)\n",
    "plt.show()"
   ]
  },
  {
   "cell_type": "code",
   "execution_count": 123,
   "metadata": {},
   "outputs": [
    {
     "name": "stdout",
     "output_type": "stream",
     "text": [
      "+--------------------+------------------+------------------+------+\n",
      "|                name|             title|         dept_name|salary|\n",
      "+--------------------+------------------+------------------+------+\n",
      "|      Georgi Facello|   Senior Engineer|       development| 60117|\n",
      "|      Bezalel Simmel|             Staff|             Sales| 65828|\n",
      "|       Parto Bamford|   Senior Engineer|        Production| 40006|\n",
      "|   Chirstian Koblick|   Senior Engineer|        Production| 40054|\n",
      "|    Kyoichi Maliniak|             Staff|   Human Resources| 78228|\n",
      "|      Anneke Preusig|   Senior Engineer|       development| 40000|\n",
      "|   Tzvetan Zielinski|             Staff|          Research| 56724|\n",
      "|     Saniya Kalloufi|Assistant Engineer|       development| 46671|\n",
      "|         Sumant Peac|   Senior Engineer|Quality Management| 60929|\n",
      "|  Duangkaew Piveteau|          Engineer|Quality Management| 72488|\n",
      "|  Duangkaew Piveteau|          Engineer|        Production| 72488|\n",
      "|          Mary Sluis|             Staff|  Customer Service| 42365|\n",
      "|  Patricio Bridgland|   Senior Engineer|       development| 40000|\n",
      "|    Eberhardt Terkki|      Senior Staff|   Human Resources| 40000|\n",
      "|         Berni Genin|          Engineer|       development| 46168|\n",
      "|  Guoxiang Nooteboom|      Senior Staff|          Research| 40000|\n",
      "|Kazuhito Cappelletti|             Staff|             Sales| 70889|\n",
      "| Cristinel Bouloucos|             Staff|         Marketing| 71380|\n",
      "|       Kazuhide Peha|   Senior Engineer|       development| 55881|\n",
      "|       Kazuhide Peha|   Senior Engineer|        Production| 55881|\n",
      "+--------------------+------------------+------------------+------+\n",
      "only showing top 20 rows\n",
      "\n"
     ]
    }
   ],
   "source": [
    "#12 f) list of emp_name, title, dept_name, salary for each employee\n",
    "\n",
    "spark.sql('select concat(first_name,\" \",last_name) as name, title, dept_name, salary from project_de.employees e \\\n",
    "inner join project_de.salaries s on e.emp_no=s.emp_no \\\n",
    "inner join project_de.titles t on e.emp_titles_id=t.title_id \\\n",
    "inner join project_de.department_employees de on e.emp_no=de.emp_no \\\n",
    "inner join project_de.department d on de.dept_no=d.dept_no').show()"
   ]
  },
  {
   "cell_type": "code",
   "execution_count": 132,
   "metadata": {
    "scrolled": true
   },
   "outputs": [
    {
     "name": "stdout",
     "output_type": "stream",
     "text": [
      "+-----------------------+------+\n",
      "|last_performance_rating| count|\n",
      "+-----------------------+------+\n",
      "|                      B|107154|\n",
      "|                      C| 71304|\n",
      "|                      A| 95919|\n",
      "|                      S| 10542|\n",
      "|                    PIP| 15105|\n",
      "+-----------------------+------+\n",
      "\n"
     ]
    }
   ],
   "source": [
    "#12 g) performance wise count of employee at last year S being the top and PIP at last \n",
    "\n",
    "performance=employees.groupBy('last_performance_rating').count()\n",
    "performance.show()"
   ]
  },
  {
   "cell_type": "code",
   "execution_count": 134,
   "metadata": {},
   "outputs": [
    {
     "data": {
      "image/png": "[encoded data removed]",
      "text/plain": [
       "<Figure size 576x360 with 1 Axes>"
      ]
     },
     "metadata": {
      "needs_background": "light"
     },
     "output_type": "display_data"
    }
   ],
   "source": [
    "plt.figure(figsize=(8,5))\n",
    "sns.barplot(data=performance.toPandas(), x='last_performance_rating', y='count', saturation=1)\n",
    "plt.show()"
   ]
  },
  {
   "cell_type": "markdown",
   "metadata": {},
   "source": [
    "###  -----------------EDA ends here -------------------------------"
   ]
  }
 ],
 "metadata": {
  "kernelspec": {
   "display_name": "Python 3",
   "language": "python",
   "name": "python3"
  },
  "language_info": {
   "codemirror_mode": {
    "name": "ipython",
    "version": 3
   },
   "file_extension": ".py",
   "mimetype": "text/x-python",
   "name": "python",
   "nbconvert_exporter": "python",
   "pygments_lexer": "ipython3",
   "version": "3.7.6"
  }
 },
 "nbformat": 4,
 "nbformat_minor": 4
}
